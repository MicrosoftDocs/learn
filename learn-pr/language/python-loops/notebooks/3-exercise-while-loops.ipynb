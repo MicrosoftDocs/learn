{
 "cells": [
  {
   "attachments": {},
   "cell_type": "markdown",
   "metadata": {},
   "source": [
    "# Using `while` loops in Python\n",
    "\n",
    "In Python, `while` loops let you run code an unknown number of times. The loops examine a Boolean condition and, as long as the condition is true, the code inside the loop will run. This is very useful for situations like prompting a user for values.\n",
    "\n",
    "In this exercise, you're creating an application that prompts a user to enter a list of planets. In a later exercise, you'll add code that displays the list. For now, though, you'll create only the code that prompts the user.\n",
    "\n",
    "This exercise is broken into a series of steps. For each step you will be presented with the goal for the step, followed by an empty cell. Enter your Python into the cell and run it. The solution for each step will follow each cell.\n",
    "\n",
    "Start by adding two variables, one for the input from the user, named `new_planet`, and another variable for the list of planets, named `planets`."
   ]
  },
  {
   "cell_type": "code",
   "execution_count": null,
   "metadata": {},
   "outputs": [],
   "source": [
    "# Enter code below:"
   ]
  },
  {
   "attachments": {},
   "cell_type": "markdown",
   "metadata": {},
   "source": [
    "Your Python code should look like this:\n",
    "\n",
    "```python\n",
    "new_planet = ''\n",
    "planets = []\n",
    "```"
   ]
  },
  {
   "attachments": {},
   "cell_type": "markdown",
   "metadata": {},
   "source": [
    "## Create a `while` loop\n",
    "\n",
    "Starting with the variables you've just created, create a `while` loop. The `while` loop will run *while* `new_planet` is *not* set to *done*.\n",
    "\n",
    "Inside the loop, check to see whether the `new_planet` variable contains a value, which should be the name of a planet. This is a quick way to see whether the user has entered a value. If they have, your code will `append` that value to the `planets` variable.\n",
    "\n",
    "Complete the `while` loop by using `input` to prompt the user to enter a new planet name or *done* if they're done entering planet names. You'll store the value from `input` in the `new_planet` variable.\n",
    "\n",
    "Finally, outside of the `while` loop, print the list of `planets` by using `print`.\n",
    "\n",
    "As you complete this part of the exercise, pay attention to tab levels to ensure code is run at the correct time."
   ]
  },
  {
   "cell_type": "code",
   "execution_count": 2,
   "metadata": {},
   "outputs": [],
   "source": [
    "# Enter code below:"
   ]
  },
  {
   "attachments": {},
   "cell_type": "markdown",
   "metadata": {},
   "source": [
    "Your code should look like this:\n",
    "\n",
    "```python\n",
    "while new_planet.lower() != 'done':\n",
    "    if new_planet:\n",
    "        planets.append(new_planet)\n",
    "    new_planet = input('Enter a new planet, or done if done')\n",
    "\n",
    "print(planets)\n",
    "```\n",
    "\n",
    "## Desired output\n",
    "\n",
    "When you run your notebook you will be prompted for new planet names until you enter **done**. (Enter a planet name and select \"Submit\". For each new entry, overtype the previous entry and select \"Submit\".) Then you will be presented with a list of the planets you entered."
   ]
  }
 ],
 "metadata": {
  "kernelspec": {
   "display_name": "Python 3.9.1 64-bit",
   "language": "python",
   "name": "conda-env-py38_default-py"
  },
  "language_info": {
   "codemirror_mode": {
    "name": "ipython",
    "version": 3
   },
   "file_extension": ".py",
   "mimetype": "text/x-python",
   "name": "python",
   "nbconvert_exporter": "python",
   "pygments_lexer": "ipython3",
   "version": "3.8.10"
  },
  "orig_nbformat": 4,
  "vscode": {
   "interpreter": {
    "hash": "2a35a5d7a1695c145f6d485f5528d9f0e062df43578e4fcb0dcb8fc15dd48b38"
   }
  }
 },
 "nbformat": 4,
 "nbformat_minor": 2
}
