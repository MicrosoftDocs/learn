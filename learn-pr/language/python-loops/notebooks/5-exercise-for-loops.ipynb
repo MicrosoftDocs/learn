{
 "cells": [
  {
   "attachments": {},
   "cell_type": "markdown",
   "metadata": {},
   "source": [
    "# Exercise - Loop over a list\n",
    "\n",
    "In the previous exercise, you created code to prompt users to enter a list of planet names. In this exercise, you'll complete the application by writing code that displays the planet names one by one.\n",
    "\n",
    "This exercise is broken into a series of steps. For each step you will be presented with the goal for the step, followed by an empty cell. Enter your Python into the cell and run it. The solution for each step will follow each cell.\n",
    "\n",
    "The first cell contains the code from the prior exercise, without the `print` statement. Run the cell and provide a list of planets. (Enter a planet name and select \"Submit\". For each new entry, overtype the previous entry and select \"Submit\".)"
   ]
  },
  {
   "cell_type": "code",
   "execution_count": null,
   "metadata": {
    "tags": [
     "remove_cell"
    ]
   },
   "outputs": [],
   "source": [
    "# Run this cell and provide a list of planets\n",
    "\n",
    "new_planet = ''\n",
    "planets = []\n",
    "\n",
    "while new_planet.lower() != 'done':\n",
    "    if new_planet:\n",
    "        planets.append(new_planet)\n",
    "    new_planet = input('Enter a new planet or done if done')"
   ]
  },
  {
   "attachments": {},
   "cell_type": "markdown",
   "metadata": {},
   "source": [
    "## Display the list of planets\n",
    "\n",
    "The `planets` variable stores the planet names that a user entered. You'll now use a `for` loop to display those entries.\n",
    "\n",
    "Create a `for` loop to iterate over the `planets` name list. You can use `planet` as the name of the variable for each planet. Inside the `for` loop, use `print` to display each `planet` name."
   ]
  },
  {
   "cell_type": "code",
   "execution_count": null,
   "metadata": {},
   "outputs": [],
   "source": [
    "# Enter code below"
   ]
  },
  {
   "attachments": {},
   "cell_type": "markdown",
   "metadata": {},
   "source": [
    "Your code should look like this:\n",
    "\n",
    "```python\n",
    "for planet in planets:\n",
    "    print(planet)\n",
    "```\n",
    "\n",
    "## Desired output\n",
    "\n",
    "When you run the notebook you will be asked for a list of planets. After you enter **done** you should see a list of planets displayed on separate lines."
   ]
  }
 ],
 "metadata": {
  "kernelspec": {
   "display_name": "Python 3.9.1 64-bit",
   "language": "python",
   "name": "conda-env-py38_default-py"
  },
  "language_info": {
   "codemirror_mode": {
    "name": "ipython",
    "version": 3
   },
   "file_extension": ".py",
   "mimetype": "text/x-python",
   "name": "python",
   "nbconvert_exporter": "python",
   "pygments_lexer": "ipython3",
   "version": "3.8.10"
  },
  "vscode": {
   "interpreter": {
    "hash": "2a35a5d7a1695c145f6d485f5528d9f0e062df43578e4fcb0dcb8fc15dd48b38"
   }
  }
 },
 "nbformat": 4,
 "nbformat_minor": 4
}
