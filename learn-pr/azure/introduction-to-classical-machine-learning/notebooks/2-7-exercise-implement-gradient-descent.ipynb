{
 "cells": [
  {
   "cell_type": "markdown",
   "metadata": {},
   "source": [
    "# Exercise: Gradient descent\n",
    "\n",
    "Previously, we identified trends in winter temperatures by fitting a linear regression model to weather data. Here, we'll repeat this process by focusing on the optimizer. Specifically, we'll work with batch gradient descent and explore how changing the learning rate can alter its behavior.\n",
    "\n",
    "The model with which we'll be working is the same linear-regression model that we've used in other units. The principles we learn, however, also apply to much more complex models.\n",
    "\n",
    "## Loading data and preparing our model\n",
    "\n",
    "Let's load up our weather data from Seattle, filter to January temperatures, and make slight adjustments so that the dates are mathematically interpretable."
   ]
  },
  {
   "cell_type": "code",
   "execution_count": null,
   "metadata": {},
   "outputs": [],
   "source": [
    "from datetime import datetime\n",
    "import pandas\n",
    "from mpl_toolkits import mplot3d\n",
    "import matplotlib.pyplot as plt\n",
    "\n",
    "!pip install statsmodels\n",
    "!wget https://raw.githubusercontent.com/MicrosoftDocs/mslearn-introduction-to-machine-learning/main/Data/seattleWeather_1948-2017.csv\n",
    "\n",
    "# Load a file that contains weather data for Seattle\n",
    "data = pandas.read_csv('seattleWeather_1948-2017.csv', parse_dates=['date'])\n",
    "\n",
    "# Remove all dates after July 1 because we have to to plant onions before summer begins\n",
    "data = data[[d.month < 7 for d in data.date]].copy()\n",
    "\n",
    "\n",
    "# Convert the dates into numbers so we can use them in our models\n",
    "# We make a year column that can contain fractions. For example,\n",
    "# 1948.5 is halfway through the year 1948\n",
    "data[\"year\"] = [(d.year + d.timetuple().tm_yday / 365.25) for d in data.date]\n",
    "\n",
    "# Let's take a quick look at our data\n",
    "plt.scatter(data[\"year\"], data[\"min_temperature\"])\n",
    "\n",
    "# add labels and legend\n",
    "plt.xlabel(\"year\")\n",
    "plt.ylabel(\"min_temperature\")\n",
    "plt.title(\"Temperatures over time (°F)\")\n",
    "plt.legend()"
   ]
  },
  {
   "cell_type": "markdown",
   "metadata": {},
   "source": [
    "## Fitting a model automatically\n",
    "\n",
    "Let's fit a line to this data well by using an existing library."
   ]
  },
  {
   "cell_type": "code",
   "execution_count": null,
   "metadata": {},
   "outputs": [],
   "source": [
    "import statsmodels.formula.api as smf\n",
    "\n",
    "# Perform linear regression to fit a line to our data\n",
    "# NB OLS uses the sum or mean of squared differences as a cost function,\n",
    "# which we're familiar with from our last exercise \n",
    "model = smf.ols(formula = \"min_temperature ~ year\", data = data).fit()\n",
    "\n",
    "# Print the model\n",
    "intercept = model.params[0]\n",
    "slope = model.params[1]\n",
    "\n",
    "print(f\"The model is: y = {slope:0.3f} * X + {intercept:0.3f}\")"
   ]
  },
  {
   "cell_type": "markdown",
   "metadata": {},
   "source": [
    "Ooh, some math! Don't let that bother you. It's quite common for labels and features to be referred to as `Y` and `X`, respectively.\n",
    "Here:\n",
    "* `Y` is temperature (°F).\n",
    "* `X` is year.\n",
    "* -83 is a _model parameter_ that acts as the line offset. \n",
    "* 0.063 is a _model parameter_ that defines the line slope (in °F per year).\n",
    "\n",
    "So, this little equation states that the model estimates temperature by multiplying the year by `0.063` and then subtracting `83`.\n",
    "\n",
    "How did the library calculate these values? Let's go through the process.\n",
    "\n",
    "## Model selection\n",
    "\n",
    "The first step is always selecting a model. Let's reuse the model that we used in previous exercises."
   ]
  },
  {
   "cell_type": "code",
   "execution_count": null,
   "metadata": {},
   "outputs": [],
   "source": [
    "class MyModel:\n",
    "\n",
    "    def __init__(self):\n",
    "        '''\n",
    "        Creates a new MyModel\n",
    "        '''\n",
    "        # Straight lines described by two parameters:\n",
    "        # The slope is the angle of the line\n",
    "        self.slope = 0\n",
    "        # The intercept moves the line up or down\n",
    "        self.intercept = 0\n",
    "\n",
    "    def predict(self, date):\n",
    "        '''\n",
    "        Estimates the temperature from the date\n",
    "        '''\n",
    "        return date * self.slope + self.intercept\n",
    "\n",
    "    def get_summary(self):\n",
    "        '''\n",
    "        Returns a string that summarises the model\n",
    "        '''\n",
    "        return f\"y = {self.slope} * x + {self.intercept}\"\n",
    "\n",
    "print(\"Model class ready\")"
   ]
  },
  {
   "cell_type": "markdown",
   "metadata": {},
   "source": [
    "## Fitting our model with gradient descent\n",
    "\n",
    "The automatic method used the _ordinary least squares_ (OLS) method, which is the standard way to fit a line. OLS uses the mean (or sum) of square differences as a cost function. (Recall our experimentation with the sum of squared differences in the last exercise.) Let's replicate the preceding line fitting and break down each step so we can watch it in action.\n",
    "\n",
    "Recall that for each iteration, our training conducts three steps: \n",
    "\n",
    "1. Estimation of `Y` (temperature) from `X` (year)\n",
    "\n",
    "2. Calculation of the cost function and its slope\n",
    "\n",
    "3. Adjustment of our model according to this slope\n",
    "\n",
    "Note that *to keep things simple, we'll focus on estimating one parameter (line slope) for now*.\n"
   ]
  },
  {
   "cell_type": "markdown",
   "metadata": {},
   "source": [
    "\n",
    "Notice how cost changes with both intercept and line slope. This is because our model has a slope and an intercept, which both affect how well the line fits the data. One consequence is that the cost function's gradient must also be described by two numbers: one for intercept and one for line slope.\n",
    "\n",
    "Our lowest point on the graph is the location of the best line equation for our data: a slope of 0.063 and an intercept of -83. Let's try to train a model to find this point.\n",
    "\n",
    "### Implementing gradient descent\n",
    "\n",
    "To implement gradient descent, we need a method that can calculate the preceding curve's gradient. "
   ]
  },
  {
   "cell_type": "code",
   "execution_count": null,
   "metadata": {},
   "outputs": [],
   "source": [
    "import numpy as np\n",
    "\n",
    "x = data.year\n",
    "temperature_true = data.min_temperature\n",
    "\n",
    "# Here, we set:\n",
    "#   x to a range of potential model intercepts\n",
    "#   y to a range of potential model slopes\n",
    "#   z as the cost for that combination of model parameters   \n",
    "\n",
    "# Choose a range of intercepts and slopes values\n",
    "intercepts = np.linspace(-100,-70,10)\n",
    "slopes = np.linspace(0.060,0.07,10)\n",
    "\n",
    "\n",
    "# Set a cost function. This will be the mean of squared differences\n",
    "def cost_function(temperature_estimate):\n",
    "    \"\"\"\n",
    "    Calculates cost for a given temperature estimate\n",
    "    Our cost function is the mean of squared differences (a.k.a. mean squared error)\n",
    "    \"\"\"\n",
    "    # Note that with NumPy to square each value, we use **\n",
    "    return np.mean((temperature_true - temperature_estimate) ** 2)\n",
    "\n",
    "def predict_and_calc_cost(intercept, slope):\n",
    "    '''\n",
    "    Uses the model to make a prediction, then calculates the cost \n",
    "    '''\n",
    "\n",
    "    # Predict temperature by using these model parameters\n",
    "    temperature_estimate = x * slope + intercept\n",
    "\n",
    "    # Calculate cost\n",
    "    return cost_function(temperature_estimate)\n",
    "\n",
    "def calculate_gradient(temperature_estimate):\n",
    "    \"\"\"\n",
    "    This calculates the gradient for a linear regession \n",
    "    by using the Mean Squared Error cost function\n",
    "    \"\"\"\n",
    "\n",
    "    # The partial derivatives of MSE are as follows\n",
    "    # You don't need to be able to do this just yet, but\n",
    "    # it's important to note that these give you the two gradients\n",
    "    # that we need to train our model\n",
    "    error = temperature_estimate - temperature_true\n",
    "    grad_intercept = np.mean(error) * 2\n",
    "    grad_slope = (x * error).mean() * 2\n",
    "\n",
    "    return grad_intercept, grad_slope\n",
    "\n",
    "print(\"Function is ready!\")"
   ]
  },
  {
   "cell_type": "markdown",
   "metadata": {},
   "source": [
    "Now all we need is a starting guess and a loop that updates this guess with each iteration."
   ]
  },
  {
   "cell_type": "code",
   "execution_count": null,
   "metadata": {
    "tags": []
   },
   "outputs": [],
   "source": [
    "def gradient_descent(learning_rate, number_of_iterations):\n",
    "    \"\"\"\n",
    "    Performs gradient descent for a one-variable function. \n",
    "\n",
    "    learning_rate: Larger numbers follow the gradient more aggressively\n",
    "    number_of_iterations: The maximum number of iterations to perform\n",
    "    \"\"\"\n",
    "\n",
    "    # Our starting guess is y = 0 * x - 83\n",
    "    # We're going to start with the correct intercept so that \n",
    "    # only the line's slope is estimated. This is just to keep\n",
    "    # things simple for this exercise\n",
    "    model = MyModel()\n",
    "    model.intercept = -83\n",
    "    model.slope = 0\n",
    "\n",
    "    for i in range(number_of_iterations):\n",
    "        # Calculate the predicted values\n",
    "        predicted_temperature = model.predict(x)\n",
    "\n",
    "        # == OPTIMIZER ===\n",
    "        # Calculate the gradient\n",
    "        _, grad_slope = calculate_gradient(predicted_temperature)\n",
    "        # Update the estimation of the line\n",
    "        model.slope -= learning_rate * grad_slope\n",
    "\n",
    "        # Print the current estimation and cost every 100 iterations\n",
    "        if( i % 100 == 0):\n",
    "            estimate = model.predict(x)\n",
    "            cost = cost_function(estimate)\n",
    "            print(\"Next estimate:\", model.get_summary(), f\"Cost: {cost}\")\n",
    "\n",
    "    # Print the final model\n",
    "    print(f\"Final estimate:\", model.get_summary())\n",
    "\n",
    "# Run gradient descent\n",
    "gradient_descent(learning_rate=1E-9, number_of_iterations=1000)"
   ]
  },
  {
   "cell_type": "markdown",
   "metadata": {},
   "source": [
    "Our model found the correct answer, but it took a number of steps. Looking at the printout, we can see how it progressively stepped toward the correct solution.\n",
    "\n",
    "Now, what happens if we make the learning rate faster? This means taking larger steps."
   ]
  },
  {
   "cell_type": "code",
   "execution_count": null,
   "metadata": {},
   "outputs": [],
   "source": [
    "gradient_descent(learning_rate=1E-8, number_of_iterations=200)"
   ]
  },
  {
   "cell_type": "markdown",
   "metadata": {},
   "source": [
    "Our model appears to have found the solution faster. If we increase the rate even more, however, things don't go so well:"
   ]
  },
  {
   "cell_type": "code",
   "execution_count": null,
   "metadata": {},
   "outputs": [],
   "source": [
    "gradient_descent(learning_rate=5E-7, number_of_iterations=500)"
   ]
  },
  {
   "cell_type": "markdown",
   "metadata": {},
   "source": [
    "Notice how the cost is getting worse each time.\n",
    "\n",
    "This is because the steps that the model was taking were too large. Although it stepped toward the correct solution, it stepped too far and actually got worse with each attempt.\n",
    "\n",
    "For each model, there's an ideal learning rate. It requires experimentation.\n",
    "\n",
    "## Fitting multiple variables simultaneously\n",
    "\n",
    "We've just fit one variable here to keep things simple. Expanding this to fit multiple variables requires only a few small code changes:\n",
    "\n",
    "* We need to update more than one variable in the gradient descent loop.\n",
    "\n",
    "* We need to do some preprocessing of the data, which we alluded to in an earlier exercise. We'll cover how and why in later learning material. \n",
    "\n",
    "## Summary\n",
    "\n",
    "Well done! In this unit, we:\n",
    "\n",
    "* Watched gradient descent in action.\n",
    "\n",
    "* Saw how changing the learning rate can improve a model's training speed.\n",
    "\n",
    "* Learned that changing the learning rate can also result in unstable models.\n",
    "\n",
    "You might have noticed that where the cost function stopped and the optimizer began became a little blurred here. Don't let that bother you. This is happens commonly, simply because they're conceptually separate and their mathematics sometimes can become intertwined."
   ]
  }
 ],
 "metadata": {
  "kernel_info": {
   "name": "conda-env-azureml_py38-py"
  },
  "kernelspec": {
   "display_name": "azureml_py38",
   "language": "python",
   "name": "conda-env-azureml_py38-py"
  },
  "language_info": {
   "codemirror_mode": {
    "name": "ipython",
    "version": 3
   },
   "file_extension": ".py",
   "mimetype": "text/x-python",
   "name": "python",
   "nbconvert_exporter": "python",
   "pygments_lexer": "ipython3",
   "version": "3.7.9"
  },
  "nteract": {
   "version": "nteract-front-end@1.0.0"
  }
 },
 "nbformat": 4,
 "nbformat_minor": 2
}
