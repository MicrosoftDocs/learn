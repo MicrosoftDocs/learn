{
 "cells": [
  {
   "attachments": {},
   "cell_type": "markdown",
   "id": "2b794793",
   "metadata": {},
   "source": [
    "# Exercise: Train a simple linear regression model\n",
    "\n",
    "In this exercise, we'll train a simple linear regression model to predict body temperature based on dogs' ages and interpret the result.\n",
    "\n",
    "## Loading data\n",
    "\n",
    "Let's begin by having a look at our data."
   ]
  },
  {
   "cell_type": "code",
   "execution_count": null,
   "id": "81e35372",
   "metadata": {},
   "outputs": [],
   "source": [
    "import pandas\n",
    "!pip install statsmodels\n",
    "!wget https://raw.githubusercontent.com/MicrosoftDocs/mslearn-introduction-to-machine-learning/main/graphing.py\n",
    "!wget https://raw.githubusercontent.com/MicrosoftDocs/mslearn-introduction-to-machine-learning/main/Data/doggy-illness.csv\n",
    "\n",
    "# Convert it into a table using pandas\n",
    "dataset = pandas.read_csv(\"doggy-illness.csv\", delimiter=\"\\t\")\n",
    "\n",
    "# Print the data\n",
    "print(dataset)"
   ]
  },
  {
   "attachments": {},
   "cell_type": "markdown",
   "id": "2bc850b5",
   "metadata": {},
   "source": [
    "We have a variety of information, including what the dogs did the night before, their age, whether they're overweight, and their clinical signs. \n",
    "In this exercise, our y values, or labels, are represented by the `core_temperature` column, while our feature will be the `age` in years.\n",
    "\n",
    "## Data visualization\n",
    "\n",
    "Let's have a look at how the features and labels are distributed."
   ]
  },
  {
   "cell_type": "code",
   "execution_count": null,
   "id": "ba77cb78",
   "metadata": {},
   "outputs": [],
   "source": [
    "import matplotlib.pyplot as plt\n",
    "\n",
    "# Histogram for 'age'\n",
    "plt.figure(figsize=(10, 5))\n",
    "plt.hist(dataset['age'], bins=10, edgecolor='black')\n",
    "plt.xlabel('Age')\n",
    "plt.ylabel('Frequency')\n",
    "plt.title('Feature')\n",
    "plt.show()\n",
    "\n",
    "# Histogram for 'core_temperature'\n",
    "plt.figure(figsize=(10, 5))\n",
    "plt.hist(dataset['core_temperature'], bins=10, edgecolor='black')\n",
    "plt.xlabel('Core Temperature')\n",
    "plt.ylabel('Frequency')\n",
    "plt.title('Label')\n",
    "plt.show()"
   ]
  },
  {
   "attachments": {},
   "cell_type": "markdown",
   "id": "e70e197d",
   "metadata": {},
   "source": [
    "Looking at our feature (`age`), we can see dogs were at or less than 9 years of age, and ages are evenly distributed. In other words, no particular age is substantially more common than any other.\n",
    "\n",
    "Looking at our label (`core_temperature`), most dogs seem to have a slightly elevated core temperature (we would normally expect ~37.5 degrees celcius), which indicates they're unwell. A small number of dogs have a temperature above 40 degrees, which indicates they're quite unwell. \n",
    "\n",
    "Simply because the shape of these distributions is different, we can guess that the feature won't be able to predict the label extremely well. For example, if old age perfectly predicted who would have a high temperature, then the number of old dogs would exactly match the number of dogs with a high temperature.\n",
    "\n",
    "The model might still end up being useful, though, so lets continue. \n",
    "\n",
    "The next step is to eyeball the relationship. Let's plot relation between the labels and features.\n",
    "\n"
   ]
  },
  {
   "cell_type": "code",
   "execution_count": null,
   "id": "0dc1cb35",
   "metadata": {},
   "outputs": [],
   "source": [
    "import matplotlib.pyplot as plt\n",
    "\n",
    "# Scatter plot for 'age' vs 'core_temperature'\n",
    "plt.figure(figsize=(10, 5))\n",
    "plt.scatter(dataset['age'], dataset['core_temperature'], edgecolor='black')\n",
    "plt.xlabel('Age')\n",
    "plt.ylabel('Core Temperature')\n",
    "plt.title('Core Temperature as a Function of Age')\n",
    "plt.show()"
   ]
  },
  {
   "attachments": {},
   "cell_type": "markdown",
   "id": "87640a4f",
   "metadata": {},
   "source": [
    "It does seem that older dogs tended to have higher temperatures than younger dogs. The relationship is quite \"noisy,\" though; many dogs of the same age have quite different temperatures.\n",
    "\n",
    "## Simple linear regression\n",
    "\n",
    "Let's formally examine the relationship between our labels and features by fitting a line (simple linear-regression model) to the dataset."
   ]
  },
  {
   "cell_type": "code",
   "execution_count": null,
   "id": "30f5b169",
   "metadata": {},
   "outputs": [],
   "source": [
    "import statsmodels.formula.api as smf\n",
    "import matplotlib.pyplot as plt\n",
    "\n",
    "# First, we define our formula using a special syntax\n",
    "# This says that core temperature is explained by age\n",
    "formula = \"core_temperature ~ age\"\n",
    "\n",
    "# Perform linear regression. This method takes care of\n",
    "# the entire fitting procedure for us.\n",
    "model = smf.ols(formula = formula, data = dataset).fit()\n",
    "\n",
    "# Show a graph of the result\n",
    "plt.figure(figsize=(10, 5))\n",
    "plt.scatter(dataset['age'], dataset['core_temperature'], edgecolor='black')\n",
    "plt.plot(dataset['age'], model.params * dataset['age'] + model.params, color='red')\n",
    "plt.xlabel('Age')\n",
    "plt.ylabel('Core Temperature')\n",
    "plt.title('Core Temperature as a Function of Age')\n",
    "plt.show()"
   ]
  },
  {
   "attachments": {},
   "cell_type": "markdown",
   "id": "9d71dbb2",
   "metadata": {},
   "source": [
    "The line seems to fit the data quite well, validating our hypothesis that there's a positive correlation between a dog's age and their core temperature.\n",
    "\n",
    "## Interpreting our model\n",
    "\n",
    "Visually, simple linear regression is easy to understand. Let's recap on what the parameters mean, though."
   ]
  },
  {
   "cell_type": "code",
   "execution_count": null,
   "id": "87ed4b61",
   "metadata": {},
   "outputs": [],
   "source": [
    "print(\"Intercept:\", model.params[0], \"Slope:\", model.params[1])"
   ]
  },
  {
   "attachments": {},
   "cell_type": "markdown",
   "id": "6600a43a",
   "metadata": {},
   "source": [
    "Remember that simple linear regression models are explained by the line intercept and the line slope.\n",
    "\n",
    "Here, our intercept is 38 degrees celsius. This means that when `age` is `0`, the model will predict 38 degrees.\n",
    "\n",
    "Our slope is 0.15 degrees celsius, meaning that for every year of age, the model will predict temperatures 0.15 degrees higher.\n",
    "\n",
    "In the following box, try to change the age to a few different values to see different predictions, and compare these with the line in the preceding graph. "
   ]
  },
  {
   "cell_type": "code",
   "execution_count": null,
   "id": "043a8128",
   "metadata": {},
   "outputs": [],
   "source": [
    "def estimate_temperature(age):\n",
    "    # Model param[0] is the intercepts and param[1] is the slope\n",
    "    return age * model.params[1] + model.params[0]\n",
    "\n",
    "print(\"Estimate temperature from age\")\n",
    "print(estimate_temperature(age=0))"
   ]
  },
  {
   "attachments": {},
   "cell_type": "markdown",
   "id": "8d0f92d2",
   "metadata": {},
   "source": [
    "## Summary\n",
    "We covered the following concepts in this exercise:\n",
    "\n",
    "- Quickly visualizing a dataset\n",
    "- Qualitatively assessing a linear relationship\n",
    "- Building a simple linear-regression model\n",
    "- Understanding parameters of a simple linear-regression model\n"
   ]
  }
 ],
 "metadata": {
  "kernel_info": {
   "name": "conda-env-azureml_py38-py"
  },
  "kernelspec": {
   "display_name": "py38_default",
   "language": "python",
   "name": "conda-env-azureml_py38-py"
  },
  "language_info": {
   "codemirror_mode": {
    "name": "ipython",
    "version": 3
   },
   "file_extension": ".py",
   "mimetype": "text/x-python",
   "name": "python",
   "nbconvert_exporter": "python",
   "pygments_lexer": "ipython3",
   "version": "3.7.9"
  },
  "nteract": {
   "version": "nteract-front-end@1.0.0"
  }
 },
 "nbformat": 4,
 "nbformat_minor": 5
}
