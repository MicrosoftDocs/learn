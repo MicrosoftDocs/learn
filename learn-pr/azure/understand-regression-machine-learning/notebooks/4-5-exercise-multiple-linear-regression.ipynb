{
 "cells": [
  {
   "attachments": {},
   "cell_type": "markdown",
   "metadata": {},
   "source": [
    "# Exercise: Train a multiple linear regression model\n",
    "In this exercise, we'll train both a simple linear-regression model and a multiple linear-regression model and compare their performance using R-Squared.\n",
    "\n",
    "## Loading data\n",
    "Let's start by having a look at our data."
   ]
  },
  {
   "cell_type": "code",
   "execution_count": null,
   "metadata": {},
   "outputs": [],
   "source": [
    "import pandas\n",
    "!pip install statsmodels\n",
    "!wget https://raw.githubusercontent.com/MicrosoftDocs/mslearn-introduction-to-machine-learning/main/graphing.py\n",
    "!wget https://raw.githubusercontent.com/MicrosoftDocs/mslearn-introduction-to-machine-learning/main/Data/doggy-illness.csv\n",
    "\n",
    "#Import the data from the .csv file\n",
    "dataset = pandas.read_csv('doggy-illness.csv', delimiter=\"\\t\")\n",
    "\n",
    "#Let's have a look at the data\n",
    "dataset"
   ]
  },
  {
   "attachments": {},
   "cell_type": "markdown",
   "metadata": {},
   "source": [
    "For this exercise, we'll try to predict `core_temperature` from some of the other available features. \n",
    "\n",
    "## Data visualization\n",
    "\n",
    "Let's quickly eyeball which features seem to have some kind of relationship with `core_temperature`."
   ]
  },
  {
   "cell_type": "code",
   "execution_count": null,
   "metadata": {},
   "outputs": [],
   "source": [
    "import matplotlib.pyplot as plt\n",
    "\n",
    "# Box and whisker plots\n",
    "plt.figure(figsize=(8, 5))\n",
    "dataset.boxplot(column=\"core_temperature\", by=\"male\")\n",
    "plt.title(\"Core Temperature by Gender (male)\")\n",
    "plt.suptitle(\"\")\n",
    "plt.xlabel(\"Male\")\n",
    "plt.ylabel(\"Core Temperature\")\n",
    "plt.show()\n",
    "\n",
    "plt.figure(figsize=(8, 5))\n",
    "dataset.boxplot(column=\"core_temperature\", by=\"attended_training\")\n",
    "plt.title(\"Core Temperature by Training Attendance\")\n",
    "plt.suptitle(\"\")\n",
    "plt.xlabel(\"Attended Training\")\n",
    "plt.ylabel(\"Core Temperature\")\n",
    "plt.show()\n",
    "\n",
    "plt.figure(figsize=(8, 5))\n",
    "dataset.boxplot(column=\"core_temperature\", by=\"ate_at_tonys_steakhouse\")\n",
    "plt.title(\"Core Temperature by Eating at Tony's Steakhouse\")\n",
    "plt.suptitle(\"\")\n",
    "plt.xlabel(\"Ate at Tony's Steakhouse\")\n",
    "plt.ylabel(\"Core Temperature\")\n",
    "plt.show()\n",
    "\n",
    "# Scatter plots\n",
    "plt.figure(figsize=(8, 5))\n",
    "plt.scatter(dataset[\"body_fat_percentage\"], dataset[\"core_temperature\"])\n",
    "plt.title(\"Core Temperature vs Body Fat Percentage\")\n",
    "plt.xlabel(\"Body Fat Percentage\")\n",
    "plt.ylabel(\"Core Temperature\")\n",
    "plt.show()\n",
    "\n",
    "plt.figure(figsize=(8, 5))\n",
    "plt.scatter(dataset[\"protein_content_of_last_meal\"], dataset[\"core_temperature\"])\n",
    "plt.title(\"Core Temperature vs Protein Content of Last Meal\")\n",
    "plt.xlabel(\"Protein Content of Last Meal\")\n",
    "plt.ylabel(\"Core Temperature\")\n",
    "plt.show()\n",
    "\n",
    "plt.figure(figsize=(8, 5))\n",
    "plt.scatter(dataset[\"age\"], dataset[\"core_temperature\"])\n",
    "plt.title(\"Core Temperature vs Age\")\n",
    "plt.xlabel(\"Age\")\n",
    "plt.ylabel(\"Core Temperature\")"
   ]
  },
  {
   "cell_type": "markdown",
   "metadata": {},
   "source": [
    "At a glance, fatter, older, and male dogs seem to more commonly have higher temperatures than thinner, younger, or female dogs. Dogs who ate a lot of protein last night also seem to be more unwell. The other features don't seem particularly useful.\n",
    "\n",
    "## Simple linear regression\n",
    "\n",
    "Let's try to predict `core_temperature` using simple linear regression, and note the R-Squared for these relationships."
   ]
  },
  {
   "cell_type": "code",
   "execution_count": null,
   "metadata": {},
   "outputs": [],
   "source": [
    "import statsmodels.formula.api as smf\n",
    "import matplotlib.pyplot as plt\n",
    "import numpy as np\n",
    "\n",
    "for feature in [\"male\", \"age\", \"protein_content_of_last_meal\", \"body_fat_percentage\"]:\n",
    "    # Perform linear regression\n",
    "    formula = \"core_temperature ~ \" + feature\n",
    "    simple_model = smf.ols(formula=formula, data=dataset).fit()\n",
    "\n",
    "    print(feature)\n",
    "    print(\"R-squared:\", simple_model.rsquared)\n",
    "\n",
    "    # Scatter plot with trendline\n",
    "    plt.figure(figsize=(8, 5))\n",
    "    plt.scatter(dataset[feature], dataset[\"core_temperature\"], label=\"Data\")\n",
    "\n",
    "    # Generate trendline values\n",
    "    x_vals = np.linspace(dataset[feature].min(), dataset[feature].max(), 100)\n",
    "    y_vals = simple_model.params[1] * x_vals + simple_model.params[0]\n",
    "    plt.plot(x_vals, y_vals, color=\"red\", label=\"Trendline\")\n",
    "\n",
    "    plt.xlabel(feature)\n",
    "    plt.ylabel(\"core_temperature\")\n",
    "    plt.title(feature)\n",
    "    plt.legend()\n",
    "    plt.show()"
   ]
  },
  {
   "cell_type": "markdown",
   "metadata": {},
   "source": [
    "Scrolling through these graphs, we get R-square values of 0.0002 (`body_fat_percentage`), 0.1 (`male`), and 0.26 (`age`).\n",
    "\n",
    "While `protein_content_of_last_meal` looks very promising too, the relationship looks curved, not linear. We'll leave this feature for now and come back to it in the next exercise."
   ]
  },
  {
   "attachments": {},
   "cell_type": "markdown",
   "metadata": {},
   "source": [
    "## R-Squared\n",
    "\n",
    "We've shown the R-Squared value for these models and used it as a measure of \"correctness\" for our regression, but what is it?\n",
    "\n",
    "Intuitively, we can think of R-Squared as ratio for how much better our regression line is than a naive regression that just goes straight through the mean of all examples. \n",
    "\n",
    "Roughly, the R-Squared is calculated by taking the loss/error of the trained model, and dividing by the loss/error of the naive model. That gives a range where `0` is better and `1` is worse, so the whole thing is subtracted from `1` to flip those results.\n",
    "\n",
    "In the following code, we once again show the scatter plot with `age` and `core_temperature`, but this time, we show two regression lines. The first is the naive line that just goes straight through the mean. This has an R-Squared of `0` (since it's no better than itself). An R-Squared of `1` would be a line that fit each training example perfectly. The second plot shows our trained regression line, and we once again see its R-Squared."
   ]
  },
  {
   "cell_type": "code",
   "execution_count": null,
   "metadata": {},
   "outputs": [],
   "source": [
    "import matplotlib.pyplot as plt\n",
    "import numpy as np\n",
    "\n",
    "formula = \"core_temperature ~ age\"\n",
    "age_trained_model = smf.ols(formula = formula, data = dataset).fit()\n",
    "age_naive_model = smf.ols(formula = formula, data = dataset).fit()\n",
    "age_naive_model.params[0] = dataset['core_temperature'].mean()\n",
    "age_naive_model.params[1] = 0\n",
    "\n",
    "print(\"naive R-squared:\", age_naive_model.rsquared)\n",
    "print(\"trained R-squared:\", age_trained_model.rsquared)\n",
    "\n",
    "# Naive model plot\n",
    "plt.figure(figsize=(8, 5))\n",
    "plt.scatter(dataset[\"age\"], dataset[\"core_temperature\"], label=\"Data\")\n",
    "\n",
    "# Naive trendline: horizontal line at the mean\n",
    "mean_temp = dataset[\"core_temperature\"].mean()\n",
    "plt.plot(\n",
    "    [dataset[\"age\"].min(), dataset[\"age\"].max()],\n",
    "    [mean_temp, mean_temp],\n",
    "    color=\"red\",\n",
    "    label=\"Naive Trendline\"\n",
    ")\n",
    "\n",
    "plt.xlabel(\"age\")\n",
    "plt.ylabel(\"core_temperature\")\n",
    "plt.title(\"Naive model\")\n",
    "plt.legend()\n",
    "plt.show()\n",
    "\n",
    "# Trained model plot\n",
    "plt.figure(figsize=(8, 5))\n",
    "plt.scatter(dataset[\"age\"], dataset[\"core_temperature\"], label=\"Data\")\n",
    "\n",
    "# Trained trendline\n",
    "x_vals = np.linspace(dataset[\"age\"].min(), dataset[\"age\"].max(), 100)\n",
    "y_vals = age_trained_model.params[1] * x_vals + age_trained_model.params[0]\n",
    "plt.plot(x_vals, y_vals, color=\"green\", label=\"Trained Trendline\")\n",
    "\n",
    "plt.xlabel(\"age\")\n",
    "plt.ylabel(\"core_temperature\")\n",
    "plt.title(\"Trained model\")\n",
    "plt.legend()\n",
    "plt.show()"
   ]
  },
  {
   "attachments": {},
   "cell_type": "markdown",
   "metadata": {},
   "source": [
    "## Multiple Linear Regression\n",
    "\n",
    "Instead of modeling these separately, let's try to combine these into a single model. Body fat didn't seem to be useful after all, so let's just use `male` and `age` as features."
   ]
  },
  {
   "cell_type": "code",
   "execution_count": null,
   "metadata": {},
   "outputs": [],
   "source": [
    "model = smf.ols(formula = \"core_temperature ~ age + male\", data = dataset).fit()\n",
    "\n",
    "print(\"R-squared:\", model.rsquared)"
   ]
  },
  {
   "attachments": {},
   "cell_type": "markdown",
   "metadata": {},
   "source": [
    "By using both features at the same time, we got a better result than any of the one-feature (univariate) models.\n",
    "\n",
    "How can we view this, though? Well, a simple linear regression is drawn in 2D. If we're working with an extra variable, we add one dimension and work in 3D. "
   ]
  },
  {
   "cell_type": "code",
   "execution_count": null,
   "metadata": {},
   "outputs": [],
   "source": [
    "import pandas as pd\n",
    "import numpy as np\n",
    "import matplotlib.pyplot as plt\n",
    "from mpl_toolkits.mplot3d import Axes3D\n",
    "\n",
    "# Define the prediction function\n",
    "def predict(age, male):\n",
    "    df = pd.DataFrame(dict(age=age.ravel(), male=male.ravel()))\n",
    "    return model.predict(df).values.reshape(age.shape)\n",
    "\n",
    "# Create a meshgrid over the age and male feature ranges\n",
    "age_range = np.linspace(dataset.age.min(), dataset.age.max(), 30)\n",
    "male_range = np.array([0, 1])  # since male is binary\n",
    "\n",
    "age_grid, male_grid = np.meshgrid(age_range, male_range)\n",
    "z_vals = predict(age_grid, male_grid)\n",
    "\n",
    "# Create the 3D plot\n",
    "fig = plt.figure(figsize=(10, 6))\n",
    "ax = fig.add_subplot(111, projection='3d')\n",
    "\n",
    "# Plot the surface\n",
    "ax.plot_surface(age_grid, male_grid, z_vals, alpha=0.6, cmap='viridis', edgecolor='none')\n",
    "\n",
    "# Scatter plot of actual data points\n",
    "ax.scatter(dataset.age, dataset.male, dataset.core_temperature, color='red', label='Data Points')\n",
    "\n",
    "ax.set_xlabel(\"Age\")\n",
    "ax.set_ylabel(\"Male\")\n",
    "ax.set_zlabel(\"Core Temperature\")\n",
    "ax.set_title(\"Predicted Core Temperature Surface\")\n",
    "\n",
    "plt.legend()\n",
    "plt.show()"
   ]
  },
  {
   "attachments": {},
   "cell_type": "markdown",
   "metadata": {},
   "source": [
    "### Inspecting our model\n",
    "\n",
    "When we have more than two features, it becomes very difficult to visualize these models. We usually have to look at the parameters directly. Let's do that now. _Statsmodels_, one of the common machine learning and statistics libraries, provides a `summary()` method that provides information about our model.    "
   ]
  },
  {
   "cell_type": "code",
   "execution_count": null,
   "metadata": {},
   "outputs": [],
   "source": [
    "# Print summary information\n",
    "model.summary()"
   ]
  },
  {
   "attachments": {},
   "cell_type": "markdown",
   "metadata": {},
   "source": [
    "If we look at the top right-hand corner, we can see our R-squared statistic that we printed out earlier.\n",
    "\n",
    "Slightly down and to the left, we can also see information about the data we trained our model on. For example, we can see that we trained it on 98 observations (`No. Observations`).\n",
    "\n",
    "Under this, we find information about our parameters in a column called `coef` (which stands for _coefficients_, a synonym for parameters in machine learning). Here, we can see the intercept was about `38`, meaning that the model predicts a core temperature of 38 for a dog with `age=0` and `male=0`. Underneath this, we see the parameter for age is 0.14, meaning that for each additional year of age, the predicted temperature would rise 0.14 degrees celsius. For `male`, we can see a parameter of 0.32, meaning that the model estimates all dogs (that is, where `male == 1`) to have temperatures 0.32 degrees celsius higher than female dogs (where `male == 0`).\n",
    "\n",
    "Although we don't have space here to go into detail, the `P` column is also very useful. This tells us how confident the model is about this parameter value. As a rule of thumb, if the *p-value* is less than 0.05, there is a good chance that this relationship if trustable. For example, here both `age` and `male` are less than 0.05, so we should feel confident using this model in the real world.\n",
    "\n",
    "As a final exercise, let's do the same thing with our earlier simple linear-regression model, relating `age` to `core_temperature`. Read through the following table and see what you can make out from this model. "
   ]
  },
  {
   "cell_type": "code",
   "execution_count": null,
   "metadata": {},
   "outputs": [],
   "source": [
    "age_trained_model.summary()"
   ]
  },
  {
   "attachments": {},
   "cell_type": "markdown",
   "metadata": {},
   "source": [
    "## Summary\n",
    "We covered the following concepts in this exercise:\n",
    "\n",
    "- Built simple and multiple linear-regression models.\n",
    "- Compared the performance of both models by looking at R-Squared values.\n",
    "- Inspected models to understand how they work."
   ]
  }
 ],
 "metadata": {
  "kernel_info": {
   "name": "conda-env-azureml_py38-py"
  },
  "kernelspec": {
   "display_name": "py38_default",
   "language": "python",
   "name": "conda-env-azureml_py38-py"
  },
  "language_info": {
   "codemirror_mode": {
    "name": "ipython",
    "version": 3
   },
   "file_extension": ".py",
   "mimetype": "text/x-python",
   "name": "python",
   "nbconvert_exporter": "python",
   "pygments_lexer": "ipython3",
   "version": "3.7.9"
  },
  "nteract": {
   "version": "nteract-front-end@1.0.0"
  },
  "vscode": {
   "interpreter": {
    "hash": "2a35a5d7a1695c145f6d485f5528d9f0e062df43578e4fcb0dcb8fc15dd48b38"
   }
  }
 },
 "nbformat": 4,
 "nbformat_minor": 5
}
