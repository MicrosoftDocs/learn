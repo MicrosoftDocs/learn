{
 "cells": [
  {
   "cell_type": "markdown",
   "id": "edd76bd1",
   "metadata": {},
   "source": [
    "# Exercise: Improving a logistic regression model\n",
    "\n",
    "In the previous exercise, we fit a simple logistic regression model to predict the chance of an avalanche. This time, we'll improve its performance by using multiple features intelligently.\n",
    "\n",
    "## Data visualisation\n",
    "\n",
    "Let's load our data."
   ]
  },
  {
   "cell_type": "code",
   "execution_count": null,
   "id": "4eec3f24",
   "metadata": {
    "scrolled": true
   },
   "outputs": [],
   "source": [
    "import pandas\n",
    "!pip install statsmodels\n",
    "!wget https://raw.githubusercontent.com/MicrosoftDocs/mslearn-introduction-to-machine-learning/main/graphing.py\n",
    "!wget https://raw.githubusercontent.com/MicrosoftDocs/mslearn-introduction-to-machine-learning/main/Data/avalanche.csv\n",
    "\n",
    "#Import the data from the .csv file\n",
    "dataset = pandas.read_csv('avalanche.csv', delimiter=\"\\t\", index_col=0)\n",
    "\n",
    "# Split our data into training and test\n",
    "import sklearn.model_selection\n",
    "train, test = sklearn.model_selection.train_test_split(dataset, test_size=0.25, random_state=10)\n",
    "\n",
    "print(\"Train size:\", train.shape[0])\n",
    "print(\"Test size:\", test.shape[0])\n",
    "\n",
    "#Let's have a look at the data\n",
    "print(train.head())"
   ]
  },
  {
   "cell_type": "markdown",
   "id": "3f5a9e04",
   "metadata": {},
   "source": [
    "We have numerous features available:\n",
    "\n",
    "* `surface_hoar` is how disturbed the surface of the snow is.\n",
    "* `fresh_thickness` is how thick the top layer of snow is, or 0 if there's no fresh snow on top.\n",
    "* `wind` is the top wind speed that day, in km/h.\n",
    "* `weak_layers` is the number of layers of snow that aren't well-bound to other layers.\n",
    "* `no_visitors` is the number of hikers who were on the trail that day.\n",
    "* `tracked_out` is a `1` or `0`. A `1` means that the snow has been trampled heavily by hikers.\n",
    "\n",
    "## Simple logistic regression\n",
    "\n",
    "Let's make a simple logistic regression model and assess its performance with accuracy.\n",
    "\n"
   ]
  },
  {
   "cell_type": "code",
   "execution_count": null,
   "id": "922cb3d4",
   "metadata": {},
   "outputs": [],
   "source": [
    "import sklearn\n",
    "from sklearn.metrics import accuracy_score\n",
    "import statsmodels.formula.api as smf\n",
    "\n",
    "# Perform logistic regression.\n",
    "model = smf.logit(\"avalanche ~ weak_layers\", train).fit()\n",
    "\n",
    "# Calculate accuracy\n",
    "def calculate_accuracy(model):\n",
    "    '''\n",
    "    Calculates accuracy\n",
    "    '''\n",
    "    # Make estimations and convert to categories\n",
    "    avalanche_predicted = model.predict(test) > 0.5\n",
    "\n",
    "    # Calculate what proportion were predicted correctly\n",
    "    # We can use sklearn to calculate accuracy for us\n",
    "    print(\"Accuracy:\", accuracy_score(test.avalanche, avalanche_predicted))\n",
    "\n",
    "calculate_accuracy(model)"
   ]
  },
  {
   "cell_type": "markdown",
   "id": "df891f7c",
   "metadata": {},
   "source": [
    "Let's see how we can improve our model.\n",
    "\n",
    "## Utilizing multiple features\n",
    "\n",
    "Most of our features seem like they could be useful, least in theory. Let's try a model with all available features."
   ]
  },
  {
   "cell_type": "code",
   "execution_count": null,
   "id": "393dda73",
   "metadata": {},
   "outputs": [],
   "source": [
    "# Perform logistic regression.\n",
    "model_all_features = smf.logit(\"avalanche ~ weak_layers + surface_hoar + fresh_thickness + wind + no_visitors + tracked_out\", train).fit()\n",
    "calculate_accuracy(model_all_features)"
   ]
  },
  {
   "cell_type": "markdown",
   "id": "2ad9aa64",
   "metadata": {},
   "source": [
    "That's a big improvement on the simpler model with which we've been working. \n",
    "\n",
    "To understand why, we can look at the summary information."
   ]
  },
  {
   "cell_type": "code",
   "execution_count": null,
   "id": "5421ce89",
   "metadata": {},
   "outputs": [],
   "source": [
    "model_all_features.summary()"
   ]
  },
  {
   "cell_type": "markdown",
   "id": "2ae88588",
   "metadata": {},
   "source": [
    "Take a look at the P column, recalling that values less than 0.05 mean we can be confident that this parameter is helping the model make better predictions.\n",
    "\n",
    "Both `surface_hoar` and `wind` have very small values here, meaning they're useful predictors and probably explain why our model is working better. If we look at the `coef` (which states _parameters_) column we see that these have positive values. This means that higher winds and greater amounts of surface hoar result in higher avalanche risk.\n",
    "\n",
    "## Simplifying our model\n",
    "\n",
    "Looking at the summary again, we can see that `tracked_out` (how trampled the snow is), and `fresh_thickness` have large p-values. This means they aren't useful predictors. Let's see what happens if we remove them from our model:"
   ]
  },
  {
   "cell_type": "code",
   "execution_count": null,
   "id": "2f6b7a01",
   "metadata": {},
   "outputs": [],
   "source": [
    "# Perform logistic regression.\n",
    "model_simplified = smf.logit(\"avalanche ~ weak_layers + surface_hoar + wind + no_visitors\", train).fit()\n",
    "calculate_accuracy(model_simplified)"
   ]
  },
  {
   "cell_type": "markdown",
   "id": "6ae5722d",
   "metadata": {},
   "source": [
    "Our new model works very similarly to the old one! In some circumstances, simplifying a model like this can even improve it because it becomes less likely to overfit.\n",
    "\n",
    "## Careful feature selection\n",
    "\n",
    "Usually, we don't just pick features blindly. Let's think about what we've just done: we removed how much fresh snow was in a model, trying to predict avalanches. Something seems off. Surely avalanches are much _more_ likely after it has snowed? Similarly, the number of people on the track seems unrelated to how many avalanches there were, but we know that people often can trigger avalanches.\n",
    "\n",
    "Let's review our earlier model again:"
   ]
  },
  {
   "cell_type": "code",
   "execution_count": null,
   "id": "34d1132e",
   "metadata": {},
   "outputs": [],
   "source": [
    "model_all_features.summary()"
   ]
  },
  {
   "attachments": {},
   "cell_type": "markdown",
   "id": "2e88e383",
   "metadata": {},
   "source": [
    "Look at the `fresh_thickness` row. We're told that it has a negative coefficient. This means that as thickness increases, avalanches decrease.\n",
    "\n",
    "Similarly, `no_visitors` has a negative coefficient, meaning that fewer hikers means more avalanches.\n",
    "\n",
    "How can this be? Well, while visitors can cause avalanches if there's a lot of fresh snow, presumably they can't easily do so if there's no fresh snow. This means that our features aren't fully independent.\n",
    "\n",
    "We can tell the model to try to take into account that these features interact by using a multiply sign. Let's try that now."
   ]
  },
  {
   "cell_type": "code",
   "execution_count": null,
   "id": "f6837366",
   "metadata": {},
   "outputs": [],
   "source": [
    "# Create a model with an interaction. Notice the end of the string where\n",
    "# we've a multiply sign between no_visitors and fresh_thickness\n",
    "formula = \"avalanche ~ weak_layers + surface_hoar + wind + no_visitors * fresh_thickness\"\n",
    "model_with_interaction = smf.logit(formula, train).fit()\n",
    "calculate_accuracy(model_with_interaction)"
   ]
  },
  {
   "cell_type": "markdown",
   "id": "5cee5a8e",
   "metadata": {},
   "source": [
    "The model has improved to 84% accuracy! Let's look at the summary information:"
   ]
  },
  {
   "cell_type": "code",
   "execution_count": null,
   "id": "398dc19b",
   "metadata": {},
   "outputs": [],
   "source": [
    "model_with_interaction.summary()"
   ]
  },
  {
   "cell_type": "markdown",
   "id": "541513c0",
   "metadata": {},
   "source": [
    "We can see that the interaction term is helpful; the p-value is less than 0.05. The model is also performing better than our previous attempts.\n",
    "\n",
    "## Making predictions with multiple features\n",
    "\n",
    "Very quickly, let's explore what this interaction means by looking at model predictions. \n",
    "\n",
    "We'll first graph two independent features in 3D. Let's start with `weak_layers` and `wind`:"
   ]
  },
  {
   "cell_type": "code",
   "execution_count": null,
   "id": "ef085a11",
   "metadata": {},
   "outputs": [],
   "source": [
    "import matplotlib.pyplot as plt\n",
    "import numpy as np\n",
    "import pandas as pd\n",
    "from mpl_toolkits.mplot3d import Axes3D\n",
    "\n",
    "def predict(weak_layers, wind, surface_hoar=0, fresh_thickness=0, no_visitors=0):\n",
    "    return model_with_interaction.predict(pd.DataFrame({\n",
    "        \"weak_layers\": weak_layers,\n",
    "        \"wind\": wind,\n",
    "        \"surface_hoar\": surface_hoar,\n",
    "        \"fresh_thickness\": fresh_thickness,\n",
    "        \"no_visitors\": no_visitors\n",
    "    }))\n",
    "\n",
    "# Generate a graph for weak_layers and wind\n",
    "weak_layers = np.linspace(-20, 20, 100)\n",
    "wind = np.linspace(-20, 20, 100)\n",
    "weak_layers_grid, wind_grid = np.meshgrid(weak_layers, wind)\n",
    "\n",
    "predicted_values = predict(weak_layers_grid.ravel(), wind_grid.ravel()).to_numpy().reshape(weak_layers_grid.shape)\n",
    "\n",
    "fig = plt.figure()\n",
    "ax = fig.add_subplot(111, projection='3d')\n",
    "ax.plot_surface(weak_layers_grid, wind_grid, predicted_values, cmap='viridis')\n",
    "\n",
    "ax.set_xlabel(\"Weak Layers\")\n",
    "ax.set_ylabel(\"Wind\")\n",
    "ax.set_zlabel(\"Predicted Values\")\n",
    "\n",
    "plt.show()"
   ]
  },
  {
   "cell_type": "markdown",
   "id": "1d8af2ee",
   "metadata": {},
   "source": [
    "There's now a clear s-shaped relationship between the features and probability.\n",
    "\n",
    "Let's now look at the features that we've said can interact:"
   ]
  },
  {
   "cell_type": "code",
   "execution_count": null,
   "id": "607f9c65",
   "metadata": {},
   "outputs": [],
   "source": [
    "import matplotlib.pyplot as plt\n",
    "import numpy as np\n",
    "import pandas as pd\n",
    "from mpl_toolkits.mplot3d import Axes3D\n",
    "\n",
    "def predict(no_visitors, fresh_thickness, weak_layers=0, wind=0, surface_hoar=0):\n",
    "    return model_with_interaction.predict(pd.DataFrame({\n",
    "        \"no_visitors\": no_visitors,\n",
    "        \"fresh_thickness\": fresh_thickness,\n",
    "        \"weak_layers\": weak_layers,\n",
    "        \"wind\": wind,\n",
    "        \"surface_hoar\": surface_hoar\n",
    "    }))\n",
    "\n",
    "# Generate the graph\n",
    "no_visitors = np.linspace(-20, 20, 100)\n",
    "fresh_thickness = np.linspace(-20, 20, 100)\n",
    "no_visitors_grid, fresh_thickness_grid = np.meshgrid(no_visitors, fresh_thickness)\n",
    "\n",
    "predicted_values = predict(no_visitors_grid.ravel(), fresh_thickness_grid.ravel()).to_numpy().reshape(no_visitors_grid.shape)\n",
    "\n",
    "fig = plt.figure()\n",
    "ax = fig.add_subplot(111, projection='3d')\n",
    "ax.plot_surface(no_visitors_grid, fresh_thickness_grid, predicted_values, cmap='viridis')\n",
    "\n",
    "ax.set_xlabel(\"No Visitors\")\n",
    "ax.set_ylabel(\"Fresh Thickness\")\n",
    "ax.set_zlabel(\"Predicted Values\")\n",
    "\n",
    "plt.show()"
   ]
  },
  {
   "attachments": {},
   "cell_type": "markdown",
   "id": "cde3a668",
   "metadata": {},
   "source": [
    "This graph looks quite different to the other! From any side, we can see an s-shape, but these combine in strange ways.\n",
    "\n",
    "We can see that the risk goes up on days with lots of visitors _and_ lots of snow. There's no real risk of avalanche when there's a lot of snow but no visitors, or when there are a lot of visitors but no snow.\n",
    "\n",
    "The fact that it shows high risk when there's no fresh snow and no visitors could be due to rain, which keeps visitors and snow clouds away, but results in avalanches of the older snow. To confirm this, we'd need to explore the data in more depth, but we'll stop here for now.\n",
    "\n",
    "## Summary\n",
    "\n",
    "Well done! Let's recap. We've:\n",
    "\n",
    "* Improved our simple model by adding more features. \n",
    "* Practiced interpreting our model coefficients (parameters) from the model summary.\n",
    "* Eliminated unnecessary features.\n",
    "* Explored how sometimes it's important to think about what your data really means.\n",
    "* Created a model that combined features to give a superior result."
   ]
  }
 ],
 "metadata": {
  "kernel_info": {
   "name": "conda-env-azureml_py38-py"
  },
  "kernelspec": {
   "display_name": "azureml_py38",
   "language": "python",
   "name": "conda-env-azureml_py38-py"
  },
  "language_info": {
   "codemirror_mode": {
    "name": "ipython",
    "version": 3
   },
   "file_extension": ".py",
   "mimetype": "text/x-python",
   "name": "python",
   "nbconvert_exporter": "python",
   "pygments_lexer": "ipython3",
   "version": "3.7.9"
  },
  "nteract": {
   "version": "nteract-front-end@1.0.0"
  }
 },
 "nbformat": 4,
 "nbformat_minor": 2
}
