{
  "cells": [
    {
      "cell_type": "markdown",
      "metadata": {},
      "source": [
        "# Exercise: Titanic Dataset - Find and Visualize Missing Data\n",
        "\n",
        "Datasets can often have missing data, which can cause problems when we perform machine learning. Missing data can be hard to spot at a first glance.\n",
        "\n",
        "Our scenario uses a list of passengers on the failed maiden voyage of the Titanic. We want to know which factors predicted passenger survival. For our first task, which we perform here, we check whether our dataset has missing information."
      ]
    },
    {
      "cell_type": "code",
      "execution_count": null,
      "metadata": {},
      "outputs": [],
      "source": [
        "## The required 'matplotlib' visualization library\n",
        "\n",
        "This tutorial relies on the 'matplotlib' Python visualization library to build data graph resources. Depending on the \n",
        "environment you use to execute the code in this notebook, you might need to install that library to proceed."
      ]
    },
    {
      "cell_type": "markdown",
      "metadata": {
        "nteract": {
          "transient": {
            "deleting": false
          }
        }
      },
      "source": [
        "## Preparing data\n",
        "\n",
        "Let's use Pandas to load the dataset and take a cursory look at it:"
      ]
    },
    {
      "cell_type": "code",
      "execution_count": null,
      "metadata": {
        "gather": {
          "logged": 1677282976719
        }
      },
      "outputs": [],
      "source": [
        "import pandas as pd\n",
        "!pip install missingno\n",
        "\n",
        "# Load data from our dataset file into a pandas dataframe\n",
        "!wget https://raw.githubusercontent.com/MicrosoftDocs/mslearn-introduction-to-machine-learning/main/Data/titanic.csv\n",
        "!wget https://raw.githubusercontent.com/MicrosoftDocs/mslearn-introduction-to-machine-learning/main/graphing.py\n",
        "dataset = pd.read_csv('titanic.csv', index_col=False, sep=\",\", header=0)\n",
        "\n",
        "# Let's take a look at the data\n",
        "dataset.head()\n"
      ]
    },
    {
      "cell_type": "markdown",
      "metadata": {},
      "source": [
        "Now, we'll see the number of samples and columns in the data set:\n",
        "\n"
      ]
    },
    {
      "cell_type": "code",
      "execution_count": null,
      "metadata": {
        "gather": {
          "logged": 1677282985793
        }
      },
      "outputs": [],
      "source": [
        "# Shape tells us how many rows and columns we have\n",
        "print(dataset.shape)"
      ]
    },
    {
      "cell_type": "markdown",
      "metadata": {},
      "source": [
        "We have data for 891 passengers, each described by 12 different variables.\n",
        "\n",
        "## Finding Missing Data\n",
        "\n",
        "Do we have a complete dataset?\n",
        "\n",
        "No. We know from historical records that there were more than 2000 people on the Titanic, so we are clearly missing information on more than 1000 people! \n",
        "\n",
        "How can we tell if the available data is complete?\n",
        "\n",
        "We could print the entire dataset, but this might involve human error, and it would become impractical with this many samples.\n",
        "\n",
        "A better option would use `pandas` to report the columns that have \"empty\" cells:"
      ]
    },
    {
      "cell_type": "code",
      "execution_count": null,
      "metadata": {
        "gather": {
          "logged": 1677282996252
        }
      },
      "outputs": [],
      "source": [
        "# Calculate the number of empty cells in each column\n",
        "# The following line consists of three commands. Try\n",
        "# to think about how they work together to calculate\n",
        "# the number of missing entries per column\n",
        "missing_data = dataset.isnull().sum().to_frame()\n",
        "\n",
        "# Rename column holding the sums\n",
        "missing_data = missing_data.rename(columns={0:'Empty Cells'})\n",
        "\n",
        "# Print the results\n",
        "print(missing_data)"
      ]
    },
    {
      "attachments": {},
      "cell_type": "markdown",
      "metadata": {},
      "source": [
        "It looks like we don't know the age of 177 passengers, and we don't know if two passengers even embarked.\n",
        "\n",
        "Cabin information for a whopping 687 persons is also missing.\n",
        "\n",
        "## Missing Data Visualizations\n",
        "\n",
        "It can sometimes help if we can find some kind of pattern in the missing data.   \n",
        "\n",
        "We can plot the absence of data in a few ways. One of the most helpful is to literally plot gaps in the dataset:"
      ]
    },
    {
      "cell_type": "code",
      "execution_count": null,
      "metadata": {
        "gather": {
          "logged": 1677283003579
        }
      },
      "outputs": [],
      "source": [
        "import missingno as msno\n",
        "\n",
        "# Plot a matrix chart, set chart and font size\n",
        "msno.matrix(dataset, figsize=(10,5), fontsize=11)"
      ]
    },
    {
      "attachments": {},
      "cell_type": "markdown",
      "metadata": {},
      "source": [
        "The horizontal white bars in the graph show missing data. Here, the patterns aren't visually clear, but maybe many passengers with missing `Age` information are also missing `Cabin` information.\n",
        "\n",
        "## Identifying Individual Passengers with Missing Information.\n",
        "\n",
        "Let's use pandas to get a list of passengers of unknown age:"
      ]
    },
    {
      "cell_type": "code",
      "execution_count": null,
      "metadata": {
        "gather": {
          "logged": 1677283010269
        }
      },
      "outputs": [],
      "source": [
        "# Select Passengers with unknown age\n",
        "# Notice how we use .isnull() rows with no value\n",
        "unknown_age = dataset[dataset[\"Age\"].isnull()]\n",
        "\n",
        "# Print only the columns we want for the moment (to better fit the screen)\n",
        "# limit output to 20 rows\n",
        "unknown_age[[\"PassengerId\",\"Name\", \"Survived\", \"Age\"]][:20]"
      ]
    },
    {
      "attachments": {},
      "cell_type": "markdown",
      "metadata": {},
      "source": [
        "This technique lists the passengers with missing `Cabin` or `Embarked` information as well. Let's combine these using an `AND`, to see how many passengers are missing both Cabin and Age information"
      ]
    },
    {
      "cell_type": "code",
      "execution_count": null,
      "metadata": {
        "gather": {
          "logged": 1677283016339
        }
      },
      "outputs": [],
      "source": [
        "# Find those passengers with missing age or cabin information\n",
        "missing_age = dataset[\"Age\"].isnull()\n",
        "missing_cabin = dataset[\"Cabin\"].isnull()\n",
        "\n",
        "# Find those passengers missing both\n",
        "unknown_age_and_cabin = dataset[missing_age & missing_cabin]\n",
        "print(\"Number of passengers missing age and cabin information:\", len(unknown_age_and_cabin))"
      ]
    },
    {
      "attachments": {},
      "cell_type": "markdown",
      "metadata": {},
      "source": [
        "Our suspicions were correct - most passengers missing age information are also missing cabin information. \n",
        "\n",
        "Normally, from here, we would want to know _why_ we have this issue. A good hypothesis is that information was not collected carefully enough for the passengers who used the cheap tickets. \n",
        "\n",
        "Let's plot a histogram of ticket classes, and another of just people missing information. "
      ]
    },
    {
      "cell_type": "code",
      "execution_count": null,
      "metadata": {
        "gather": {
          "logged": 1677283029277
        }
      },
      "outputs": [],
      "source": [
        "import matplotlib.pyplot as plt\n",
        "\n",
        "plt.hist((dataset.values[:,2]),bins=[0.5, 1.5, 2.5, 3.5],edgecolor=\"white\")\n",
        "plt.hist((unknown_age_and_cabin.values[:,2]),bins=[0.5, 1.5, 2.5, 3.5],edgecolor=\"white\")\n",
        "plt.xticks([1, 2, 3])\n",
        "plt.xlabel(\"Pclass (Passenger Class)\", fontsize=16)\n",
        "plt.ylabel(\"Passenger Count\", fontsize=16)"
      ]
    },
    {
      "attachments": {},
      "cell_type": "markdown",
      "metadata": {},
      "source": [
        "It seems that those passengers with missing information typically used the cheaper tickets. These sorts of biases might cause problems in real-world analyses.\n",
        "\n",
        "## Missing as Zero\n",
        "\n",
        "Additionally, some datasets may have missing values that appear as zero. While the Titanic dataset doesn't have this problem, let's see how that would work here."
      ]
    },
    {
      "cell_type": "code",
      "execution_count": null,
      "metadata": {
        "gather": {
          "logged": 1677284001038
        }
      },
      "outputs": [],
      "source": [
        "import numpy as np\n",
        "\n",
        "# Print out the average age of passengers for whom we have age data\n",
        "mean_age = np.mean(dataset.Age)\n",
        "print(\"The average age on the ship was\", mean_age, \"years old\")\n",
        "\n",
        "# Now, make another model where missing ages contained a '0'\n",
        "dataset['Age_2'] = dataset['Age'].fillna(0)\n",
        "mean_age = np.mean(dataset.Age_2)\n",
        "print(\"The average age on the ship was\", mean_age, \"years old\")"
      ]
    },
    {
      "attachments": {},
      "cell_type": "markdown",
      "metadata": {},
      "source": [
        "What happened here? Our analyses consider the values of `0` not as 'missing' values, but instead as actual age values.\n",
        "\n",
        "This shows that it can be important to time the review of your raw data before you run the analyses. Another fast way to get a feel for a dataset is to graph its distribution:"
      ]
    },
    {
      "cell_type": "code",
      "execution_count": null,
      "metadata": {
        "gather": {
          "logged": 1677284008964
        }
      },
      "outputs": [],
      "source": [
        "plt.hist(dataset[\"Age\"],bins=[0, 10, 20, 30, 40, 50, 60, 70, 80, 90],edgecolor=\"white\")\n",
        "plt.xticks([0, 10, 20, 30, 40, 50, 60, 70, 80, 90])\n",
        "plt.xlim([0, 90])\n",
        "plt.xlabel(\"Age_2\", fontsize=16)\n",
        "plt.ylabel(\"Passenger Count\", fontsize=16)"
      ]
    },
    {
      "attachments": {},
      "cell_type": "markdown",
      "metadata": {},
      "source": [
        "Here, we see an unlikely number of very young children. This would be cause for further inspection of the data, to hopefully spot the fact that the missing ages appear as zeros.\n",
        "\n",
        "## Handling Missing Data\n",
        "\n",
        "We have many ways to address missing data, each with pros and cons.\n",
        "\n",
        "Let's take a look at the less complex options:\n",
        "\n",
        "### Option 1: Delete data with missing rows\n",
        "\n",
        "For a model that cannot handle missing data, the most prudent thing to do is to remove rows that have information missing.\n",
        "\n",
        "Let's remove some data from the `Embarked` column, which only has two rows with missing data."
      ]
    },
    {
      "cell_type": "code",
      "execution_count": null,
      "metadata": {
        "gather": {
          "logged": 1677284015800
        }
      },
      "outputs": [],
      "source": [
        "# Create a \"clean\" dataset, where we cumulatively fix missing values\n",
        "# Start by removing rows ONLY where \"Embarked\" has no values\n",
        "print(f\"The original size of our dataset was\", dataset.shape)\n",
        "clean_dataset = dataset.dropna(subset=[\"Embarked\"])\n",
        "clean_dataset = clean_dataset.reindex()\n",
        "\n",
        "# How many rows do we have now?\n",
        "print(\"The shape for the clean dataset is\", clean_dataset.shape)"
      ]
    },
    {
      "attachments": {},
      "cell_type": "markdown",
      "metadata": {},
      "source": [
        "We can see that this removed the offending two rows from our new, clean dataset.\n",
        "\n",
        "### Option 2: Replace empty values with the mean or median for that data.\n",
        "\n",
        "Sometimes, our model cannot handle missing values, and we also cannot afford to remove too much data. In this case, we can sometimes fill in missing data with an average calculated on the basis of the rest of the dataset. Note that imputing data like this can affect model performance in a negative way. Usually, it's better to simply remove missing data, or to use a model designed to handle missing values.\n",
        "\n",
        "Here, we impute data for the `Age` field. We use the mean `Age` from the remaining rows, given that >80% of these have values:"
      ]
    },
    {
      "cell_type": "code",
      "execution_count": null,
      "metadata": {
        "gather": {
          "logged": 1677284021762
        }
      },
      "outputs": [],
      "source": [
        "# Calculate the mean value for the Age column\n",
        "mean_age = clean_dataset[\"Age\"].mean()\n",
        "\n",
        "print(\"The mean age is\", mean_age)\n",
        "\n",
        "# Replace empty values in \"Age\" with the mean calculated above\n",
        "clean_dataset[\"Age\"].fillna(mean_age, inplace=True)\n",
        "\n",
        "# Let's see what the clean dataset looks like now\n",
        "print(clean_dataset.isnull().sum().to_frame().rename(columns={0:'Empty Cells'}))"
      ]
    },
    {
      "attachments": {},
      "cell_type": "markdown",
      "metadata": {},
      "source": [
        "The `Age` field has no longer has empty cells.\n",
        "\n",
        "### Option 3: Assign a new category to unknown categorical data\n",
        "\n",
        "The `Cabin` field is a categorical field, because the Titanic cabins have a finite number of possible options. Unfortunately, many records have no cabin listed.\n",
        "\n",
        "For this exercise, it makes perfect sense to create an `Unknown` category, and assign it to the cases where the cabin is unknown:"
      ]
    },
    {
      "cell_type": "code",
      "execution_count": null,
      "metadata": {
        "gather": {
          "logged": 1677284026121
        }
      },
      "outputs": [],
      "source": [
        "# Assign unknown to records where \"Cabin\" is empty\n",
        "clean_dataset[\"Cabin\"].fillna(\"Unknown\", inplace=True)\n",
        "\n",
        "# Let's see what the clean dataset looks like now\n",
        "print(clean_dataset.isnull().sum().to_frame().rename(columns={0:'Empty Cells'}))"
      ]
    },
    {
      "attachments": {},
      "cell_type": "markdown",
      "metadata": {},
      "source": [
        "That's it! No more missing data!\n",
        "\n",
        "We only lost two records (where `Embarked` was empty).\n",
        "\n",
        "That said, we had to make some approximations to fill the missing gaps for the `Age` and `Cabin` columns, and those will certainly influence the performance of any model we train on this data.\n",
        "\n",
        "## Summary\n",
        "\n",
        "Missing values can affect the way a Machine Learning model works in a negative way. It's important to quickly verify the existence of data gaps, and the locations of those gaps.\n",
        "\n",
        "You can now get a \"big picture\" of what is missing. Using lists and charts, you can select only those items that you must address.\n",
        "\n",
        "In this exercise, we practiced:\n",
        "\n",
        "- Finding and visualization of missing dataset values, with the `pandas` and `missingno` packages.\n",
        "- Checking whether a dataset uses the value '0' to represent missing values.\n",
        "- Handling missing data in three ways: removal of rows that contain missing values, replacement of the missing values with the mean or median of that particular feature, and creation of a new `Unknown` category, when dealing with categorical data."
      ]
    }
  ],
  "metadata": {
    "kernel_info": {
      "name": "python3"
    },
    "kernelspec": {
      "display_name": "Python 3 (ipykernel)",
      "language": "python",
      "name": "python3"
    },
    "language_info": {
      "codemirror_mode": {
        "name": "ipython",
        "version": 3
      },
      "file_extension": ".py",
      "mimetype": "text/x-python",
      "name": "python",
      "nbconvert_exporter": "python",
      "pygments_lexer": "ipython3",
      "version": "3.10.11"
    },
    "microsoft": {
      "host": {
        "AzureML": {
          "notebookHasBeenCompleted": true
        }
      },
      "ms_spell_check": {
        "ms_spell_check_language": "en"
      }
    },
    "nteract": {
      "version": "nteract-front-end@1.0.0"
    },
    "vscode": {
      "interpreter": {
        "hash": "d986dcce87f8efbe64f9555c9767535f3ea76b09442c50f327a793e0b4903fbe"
      }
    }
  },
  "nbformat": 4,
  "nbformat_minor": 2
}
