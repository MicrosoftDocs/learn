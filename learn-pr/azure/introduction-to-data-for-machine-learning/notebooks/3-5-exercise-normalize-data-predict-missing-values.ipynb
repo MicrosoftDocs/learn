{
  "cells": [
    {
      "cell_type": "markdown",
      "metadata": {},
      "source": [
        "# Exercise: Titanic Dataset - Visualising Different Types of Data\n",
        "\n",
        "To build better machine learning models, we should understand the available data. This usually involves:\n",
        "\n",
        "1. Data visualization.\n",
        "\n",
        "2. Understanding the kind of data we have available.\n",
        "\n",
        "In this module, we'll practice cleaning our Titanic dataset. We'll also practice visualization of different kinds of data like the following:\n",
        "\n",
        "- Continuous\n",
        "- Ordinal\n",
        "- Categorical\n",
        "- Simple identity column\n",
        "\n",
        "## First Inspection\n",
        "\n",
        "Let's reload the Titanic Dataset, and reacquaint ourselves with its data:\n"
      ]
    },
    {
      "cell_type": "code",
      "execution_count": null,
      "metadata": {
        "gather": {
          "logged": 1677521763687
        }
      },
      "outputs": [],
      "source": [
        "import pandas as pd\n",
        "\n",
        "# Load data from our dataset file into a pandas dataframe\n",
        "!wget https://raw.githubusercontent.com/MicrosoftDocs/mslearn-introduction-to-machine-learning/main/Data/titanic.csv\n",
        "!wget https://raw.githubusercontent.com/MicrosoftDocs/mslearn-introduction-to-machine-learning/main/graphing.py\n",
        "dataset = pd.read_csv('titanic.csv', index_col=False, sep=\",\", header=0)\n",
        "\n",
        "# Let's take a look at the data\n",
        "dataset.head()\n"
      ]
    },
    {
      "cell_type": "markdown",
      "metadata": {},
      "source": [
        "Take a careful look at the columns, and try to identify those columns holding continuous, ordinal, categorical, or identity data.\n",
        "\n",
        "We can display a brief summary of the _dataypes_ with the panda `info()` method:"
      ]
    },
    {
      "cell_type": "code",
      "execution_count": null,
      "metadata": {
        "gather": {
          "logged": 1677522886899
        }
      },
      "outputs": [],
      "source": [
        "dataset.info()"
      ]
    },
    {
      "cell_type": "markdown",
      "metadata": {},
      "source": [
        "Several columns contain numerical data (the `int64` or `float64` types), while others contain more complex data types (those with `object` as Dtype)\n",
        "\n",
        "## Visualising Ordinal Data\n",
        "\n",
        "Let's visualize some ordinal data. We have available:\n",
        "\n",
        "1. `Pclass`: The ticket class\n",
        "2. `Parch`: The number of parents or children on the ship\n",
        "3. `sibsp`: The number of siblings or spouses on the ship\n",
        "\n",
        "We can view ordinal data with almost any kind of graph. We'll start with a simple histogram that describes relationships between the ticket class and the likelihood of survival."
      ]
    },
    {
      "cell_type": "code",
      "execution_count": null,
      "metadata": {
        "gather": {
          "logged": 1677523084411
        }
      },
      "outputs": [],
      "source": [
        "import matplotlib.pyplot as plt\n",
        "import seaborn as sns  # For better boxplots\n",
        "\n",
        "# Group by 'Pclass' and compute average 'Survived'\n",
        "avg_survived = dataset.groupby('Pclass')['Survived'].mean()\n",
        "\n",
        "# Plot histogram (bar chart of averages)\n",
        "plt.figure(figsize=(10, 6))\n",
        "plt.bar(avg_survived.index.astype(str), avg_survived.values)\n",
        "plt.xlabel('Pclass')\n",
        "plt.ylabel('Average Survived')\n",
        "plt.title('Average Survival Rate by Passenger Class')\n",
        "\n",
        "# Optionally add a boxplot\n",
        "# We use seaborn's boxplot to display distribution of 'Survived' by 'Pclass'\n",
        "plt.figure(figsize=(10, 6))\n",
        "sns.boxplot(x='Pclass', y='Survived', data=dataset)\n",
        "plt.xlabel('Pclass')\n",
        "plt.ylabel('Survived')\n",
        "plt.title('Survival Distribution by Passenger Class')\n",
        "\n",
        "plt.tight_layout()\n",
        "plt.show()"
      ]
    },
    {
      "cell_type": "markdown",
      "metadata": {},
      "source": [
        "The top plot shows that at least half the people had third-class tickets. Note how the median and maximum of the plot both sit at `Pclass = 3`.\n",
        "\n",
        "The histogram shows that people in second and third class tended not to survive the wreck.\n",
        "\n",
        "Let's look at how survival varies, depending on whether a passenger had parents or children on the ship."
      ]
    },
    {
      "cell_type": "code",
      "execution_count": null,
      "metadata": {
        "gather": {
          "logged": 1677523140454
        }
      },
      "outputs": [],
      "source": [
        "import numpy as np\n",
        "\n",
        "# Group by Pclass and Parch, and compute the average of Survived\n",
        "grouped = dataset.groupby(['Pclass', 'Parch'])['Survived'].mean().unstack(fill_value=0)\n",
        "\n",
        "# Create bar plot\n",
        "x = np.arange(len(grouped.index))  # the label locations\n",
        "width = 0.1  # width of the bars\n",
        "\n",
        "fig, ax = plt.subplots(figsize=(12, 6))\n",
        "\n",
        "# Loop through each Parch value to create grouped bars\n",
        "for i, parch in enumerate(grouped.columns):\n",
        "    ax.bar(x + i * width, grouped[parch], width, label=f'Parch: {parch}')\n",
        "\n",
        "# Labeling\n",
        "ax.set_xlabel('Pclass')\n",
        "ax.set_ylabel('Average Survived')\n",
        "ax.set_title('Average Survival Rate by Pclass and Parch')\n",
        "ax.set_xticks(x + width * (len(grouped.columns) - 1) / 2)\n",
        "ax.set_xticklabels(grouped.index.astype(str))\n",
        "ax.legend(title='Number of Parents/Children (Parch)')\n",
        "\n",
        "plt.tight_layout()\n",
        "plt.show()"
      ]
    },
    {
      "cell_type": "markdown",
      "metadata": {},
      "source": [
        "For first and second class ticket holders, people in larger family groups appear to have had better rates of survival. However, this doesn't seem to be the case for third class passengers.\n",
        "\n",
        "Finally, let's see if those with different ticket types tended to be in differently-sized families. For data spread analysis, a box and whisker is a nice alternative to histograms.\n"
      ]
    },
    {
      "cell_type": "code",
      "execution_count": null,
      "metadata": {
        "gather": {
          "logged": 1677523183391
        }
      },
      "outputs": [],
      "source": [
        "# Group data by 'Pclass'\n",
        "grouped = [group['SibSp'].dropna().values for name, group in dataset.groupby('Pclass')]\n",
        "\n",
        "# Create the boxplot\n",
        "plt.figure(figsize=(10, 6))\n",
        "plt.boxplot(grouped, labels=sorted(dataset['Pclass'].dropna().unique()))\n",
        "plt.xlabel('Pclass')\n",
        "plt.ylabel('SibSp')\n",
        "plt.title('Box and Whisker Plot of Siblings/Spouses Aboard by Passenger Class')\n",
        "\n",
        "plt.tight_layout()\n",
        "plt.show()"
      ]
    },
    {
      "cell_type": "markdown",
      "metadata": {},
      "source": [
        "Most values are zero. This shows that most people traveled without siblings and without a partner. There are no obvious differences in this value between the different ticket classes.\n",
        "\n",
        "## Visualising Continuous Data\n",
        "\n",
        "_Continuous_ data are usually best viewed using either:\n",
        "\n",
        "1. An XY scatter plot, especially for relationships between two continuous features.\n",
        "2. Histograms or Box and Whisker plots to look at the spread of data.\n",
        "\n",
        "Our dataset has `Age` and `Fare` as continuous data columns. Let's view them:"
      ]
    },
    {
      "cell_type": "code",
      "execution_count": null,
      "metadata": {
        "gather": {
          "logged": 1677523739340
        }
      },
      "outputs": [],
      "source": [
        "# Remove rows with missing values in Age or Fare\n",
        "filtered_data = dataset.dropna(subset=['Age', 'Fare'])\n",
        "\n",
        "# Create the scatter plot\n",
        "plt.figure(figsize=(10, 6))\n",
        "plt.scatter(filtered_data['Age'], filtered_data['Fare'], alpha=0.7, edgecolors='k')\n",
        "\n",
        "# Labeling\n",
        "plt.xlabel('Age')\n",
        "plt.ylabel('Fare')\n",
        "plt.title('Scatter Plot of Fare vs Age')\n",
        "\n",
        "plt.tight_layout()\n",
        "plt.show()"
      ]
    },
    {
      "cell_type": "markdown",
      "metadata": {},
      "source": [
        "We don't see an obvious relationship between `Age` and `Fare`. \n",
        "\n",
        "Does the cost of a fare, or the person's age, have any relationship with likelihood of survival?"
      ]
    },
    {
      "cell_type": "code",
      "execution_count": null,
      "metadata": {
        "gather": {
          "logged": 1677523768533
        }
      },
      "outputs": [],
      "source": [
        "# Drop missing values\n",
        "fare_data = dataset.dropna(subset=['Fare', 'Survived'])\n",
        "\n",
        "# Bin the Fare values\n",
        "bins = np.linspace(fare_data['Fare'].min(), fare_data['Fare'].max(), 31)  # 30 bins = 31 edges\n",
        "fare_data['Fare_bin'] = pd.cut(fare_data['Fare'], bins)\n",
        "\n",
        "# Compute average survival per Fare bin\n",
        "avg_survival_by_fare = fare_data.groupby('Fare_bin')['Survived'].mean()\n",
        "\n",
        "# Midpoints of the bins for plotting\n",
        "bin_midpoints = [interval.mid for interval in avg_survival_by_fare.index]\n",
        "\n",
        "# Plot histogram of averages\n",
        "plt.figure(figsize=(10, 6))\n",
        "plt.bar(bin_midpoints, avg_survival_by_fare, width=(bins[1] - bins[0]) * 0.9)\n",
        "plt.xlabel('Fare')\n",
        "plt.ylabel('Average Survived')\n",
        "plt.title('Fare vs Survival')\n",
        "\n",
        "plt.tight_layout()\n",
        "plt.show()\n",
        "\n",
        "# Optional boxplot of Fare by Survived\n",
        "plt.figure(figsize=(10, 6))\n",
        "dataset.dropna(subset=['Fare', 'Survived'])[['Fare', 'Survived']].boxplot(by='Survived')\n",
        "plt.title('Fare Distribution by Survival')\n",
        "plt.suptitle('')  # Remove default Pandas title\n",
        "plt.xlabel('Survived')\n",
        "plt.ylabel('Fare')\n",
        "plt.tight_layout()\n",
        "plt.show()\n",
        "\n",
        "# Drop missing values\n",
        "age_data = dataset.dropna(subset=['Age', 'Survived'])\n",
        "\n",
        "# Bin the Age values\n",
        "bins = np.linspace(age_data['Age'].min(), age_data['Age'].max(), 31)\n",
        "age_data['Age_bin'] = pd.cut(age_data['Age'], bins)\n",
        "\n",
        "# Compute average survival per Age bin\n",
        "avg_survival_by_age = age_data.groupby('Age_bin')['Survived'].mean()\n",
        "bin_midpoints = [interval.mid for interval in avg_survival_by_age.index]\n",
        "\n",
        "# Plot histogram of averages\n",
        "plt.figure(figsize=(10, 6))\n",
        "plt.bar(bin_midpoints, avg_survival_by_age, width=(bins[1] - bins[0]) * 0.9)\n",
        "plt.xlabel('Age')\n",
        "plt.ylabel('Average Survived')\n",
        "plt.title('Age vs Survival')\n",
        "\n",
        "plt.tight_layout()\n",
        "plt.show()\n",
        "\n",
        "# Optional boxplot of Age by Survived\n",
        "plt.figure(figsize=(10, 6))\n",
        "dataset.dropna(subset=['Age', 'Survived'])[['Age', 'Survived']].boxplot(by='Survived')\n",
        "plt.title('Age Distribution by Survival')\n",
        "plt.suptitle('')\n",
        "plt.xlabel('Survived')\n",
        "plt.ylabel('Age')\n",
        "plt.tight_layout()\n",
        "plt.show()"
      ]
    },
    {
      "cell_type": "markdown",
      "metadata": {},
      "source": [
        "The boxplot (top) of the first figure shows that most people held tickets that cost less than £25, and the histogram shows that people with more expensive tickets tended to survive.\n",
        "\n",
        "The second figure indicates passengers were about 30 years old on average, and that most children under 10 years old survived, unlike most adults.\n",
        "\n",
        "\n",
        "## Visualising Categorical Data\n",
        "\n",
        "The Titanic dataset has these _categorical_ columns:\n",
        "* `Sex`: Male, Female\n",
        "* `Embarked`: The port of ambarkation (C, Q, or S)\n",
        "* `Cabin`: Many options\n",
        "* `Survival`: 0 = no, 1 = yes\n",
        "\n",
        "Categorical data are usually viewable in a similar way to ordinal data, but with data viewed as order-less groups. Alternatively, categories appear as colors or groups in other kinds of plots.\n",
        "\n",
        "Plotting categorical data against other categorical data shows how data is clustered. This is little more than a colored table. Let's do this now:"
      ]
    },
    {
      "cell_type": "code",
      "execution_count": null,
      "metadata": {
        "gather": {
          "logged": 1677523888702
        }
      },
      "outputs": [],
      "source": [
        "import numpy as np\n",
        "\n",
        "# Create some simple functions\n",
        "# Read their descriptions to find out more \n",
        "def get_rows(sex, port):\n",
        "    '''Returns rows that match in terms of sex and embarkment port'''\n",
        "    return dataset[(dataset.Embarked == port) & (dataset.Sex == sex)]\n",
        "\n",
        "def proportion_survived(sex, port):\n",
        "    '''Returns the proportion of people meeting criteria who survived'''\n",
        "    survived = get_rows(sex, port).Survived\n",
        "    return np.mean(survived)\n",
        "\n",
        "# Make two columns of data - together these represent each combination\n",
        "# of sex and embarkment port\n",
        "sexes = [\"male\", \"male\", \"male\", \"female\",\"female\", \"female\"]\n",
        "ports = [\"C\", \"Q\", \"S\" ] * 2\n",
        "\n",
        "# Calculate the number of passengers at each port + sex combination\n",
        "passenger_count = [len(get_rows(sex, port)) for sex,port in zip(sexes, ports)]\n",
        "\n",
        "# Calculate the proportion of passengers from each port + sex combination who survived\n",
        "passenger_survival = [proportion_survived(sex, port) for sex,port in zip(sexes, ports)]\n",
        "\n",
        "# Combine into a single data frame\n",
        "table = pd.DataFrame(dict(\n",
        "    sex=sexes,\n",
        "    port=ports,\n",
        "    passenger_count=passenger_count,\n",
        "    passenger_survival_rate=passenger_survival\n",
        "))\n",
        "\n",
        "# Make a bubble plot\n",
        "# This is just a scatter plot but each entry in the plot \n",
        "# has a size and color. We set color to passenger_survival \n",
        "# and size to the number of passengers \n",
        "\n",
        "# Define x-axis labels as combined categories (e.g., \"male-C\")\n",
        "table['category'] = table['sex'] + '-' + table['port']\n",
        "\n",
        "# Set up the figure\n",
        "plt.figure(figsize=(10, 6))\n",
        "\n",
        "# Create the scatter plot (bubble plot)\n",
        "scatter = plt.scatter(\n",
        "    x=table['category'],\n",
        "    y=[1] * len(table),  # Place all bubbles on same y level (optional)\n",
        "    s=table['passenger_count'] * 0.3,  # Size scaled\n",
        "    c=table['passenger_survival_rate'],  # Color by survival rate\n",
        "    cmap='viridis',  # Color map\n",
        "    alpha=0.7,\n",
        "    edgecolors='k'\n",
        ")\n",
        "\n",
        "# Colorbar\n",
        "cbar = plt.colorbar(scatter)\n",
        "cbar.set_label('Passenger Survival Rate')\n",
        "\n",
        "# Formatting\n",
        "plt.title('Bubble Plot of Categorical Data')\n",
        "plt.xlabel('Sex and Port')\n",
        "plt.yticks([])  # Hide y-axis ticks since it's not meaningful\n",
        "plt.xticks(rotation=45)\n",
        "\n",
        "plt.tight_layout()\n",
        "plt.show()"
      ]
    },
    {
      "cell_type": "markdown",
      "metadata": {},
      "source": [
        "It appears that women have a much higher survival rate than men, but there were more men on the ship. \n",
        "\n",
        "We can also see that most people boarded at Port `S` (\"Southampton\"). It does seem that there is a weak relationship between the port of boarding and survival.\n",
        "\n",
        "## Summary\n",
        "\n",
        "You learned about different types of data, and you practiced data exploration through graphs.\n",
        "\n",
        "Through these, we've discovered that some features are related to others, and that many features seem to influence the survival rate."
      ]
    }
  ],
  "metadata": {
    "kernel_info": {
      "name": "python3"
    },
    "kernelspec": {
      "display_name": "Python 3 (ipykernel)",
      "language": "python",
      "name": "python3"
    },
    "language_info": {
      "codemirror_mode": {
        "name": "ipython",
        "version": 3
      },
      "file_extension": ".py",
      "mimetype": "text/x-python",
      "name": "python",
      "nbconvert_exporter": "python",
      "pygments_lexer": "ipython3",
      "version": "3.10.11"
    },
    "microsoft": {
      "ms_spell_check": {
        "ms_spell_check_language": "en"
      }
    },
    "nteract": {
      "version": "nteract-front-end@1.0.0"
    },
    "vscode": {
      "interpreter": {
        "hash": "d986dcce87f8efbe64f9555c9767535f3ea76b09442c50f327a793e0b4903fbe"
      }
    }
  },
  "nbformat": 4,
  "nbformat_minor": 2
}
