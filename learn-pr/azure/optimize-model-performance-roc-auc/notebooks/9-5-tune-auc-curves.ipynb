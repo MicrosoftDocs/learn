{
 "cells": [
  {
   "attachments": {},
   "cell_type": "markdown",
   "id": "c227fd28",
   "metadata": {},
   "source": [
    "# Exercise: Tune the area under the curve\n",
    "\n",
    "In this exercise, we'll make and compare two models using ROC curves, and tune one using the area under the curve (AUC).\n",
    "\n",
    "The goal of our models is to identify whether each item detected on the mountain is a hiker (`true`) or a tree (`false`). We'll work with our `motion` feature here. Let's take a look:"
   ]
  },
  {
   "cell_type": "code",
   "execution_count": null,
   "id": "d5383dac",
   "metadata": {},
   "outputs": [],
   "source": [
    "import numpy as np\n",
    "import pandas\n",
    "!pip install statsmodels\n",
    "!wget https://raw.githubusercontent.com/MicrosoftDocs/mslearn-introduction-to-machine-learning/main/graphing.py\n",
    "!wget https://raw.githubusercontent.com/MicrosoftDocs/mslearn-introduction-to-machine-learning/main/Data/hiker_or_tree.csv\n",
    "!wget https://raw.githubusercontent.com/MicrosoftDocs/mslearn-introduction-to-machine-learning/main/m2d_make_roc.py\n",
    "import matplotlib.pyplot as plt\n",
    "import sklearn.model_selection\n",
    "\n",
    "# Load our data from disk\n",
    "df = pandas.read_csv(\"hiker_or_tree.csv\", delimiter=\"\\\\t\")\n",
    "\n",
    "# Remove features we no longer want\n",
    "del df[\"height\"]\n",
    "del df[\"texture\"]\n",
    "\n",
    "# Split into train and test\n",
    "train, test =  sklearn.model_selection.train_test_split(df, test_size=0.5, random_state=1)\n",
    "\n",
    "# Graph our feature\n",
    "# Define a helper function to plot histograms by class\n",
    "def plot_histogram_by_group(data, column, group_column, bins=12):\n",
    "    groups = data[group_column].unique()\n",
    "    for group in groups:\n",
    "        subset = data[data[group_column] == group]\n",
    "        plt.hist(subset[column], bins=bins, alpha=0.5, label=f'{group_column}={group}')\n",
    "    plt.xlabel(column)\n",
    "    plt.ylabel('Count')\n",
    "    plt.title(f'{column} by {group_column}')\n",
    "    plt.legend()\n",
    "    plt.grid(True)\n",
    "    plt.show()\n",
    "\n",
    "plot_histogram_by_group(test, \"motion\", \"is_hiker\", bins=12)"
   ]
  },
  {
   "attachments": {},
   "cell_type": "markdown",
   "id": "8a39e4a3",
   "metadata": {},
   "source": [
    "Motion seems associated with hikers more than trees, but not perfectly. Presumably, this is because trees blow in the wind and some hikers are found sitting down.\n",
    "\n",
    "## A logistic regression model and a random forest\n",
    "\n",
    "Let's train the same logistic regression model we used in the previous exercise, as well as a random-forest model. Both will try to predict which objects are hikers.\n",
    "\n",
    "First, the logistic regression:"
   ]
  },
  {
   "cell_type": "code",
   "execution_count": null,
   "id": "f4fcb1e6",
   "metadata": {},
   "outputs": [],
   "source": [
    "import statsmodels.api\n",
    "from sklearn.metrics import accuracy_score\n",
    "\n",
    "# This is a helper method that reformats the data to be compatible\n",
    "# with this particular logistic regression model \n",
    "prep_data = lambda x:  np.column_stack((np.full(x.shape, 1), x))\n",
    "\n",
    "# Train a logistic regression model to predict hiker based on motion\n",
    "lr_model = statsmodels.api.Logit(train.is_hiker, prep_data(train.motion), add_constant=True).fit()\n",
    "\n",
    "# Assess its performance\n",
    "# -- Train\n",
    "predictions = lr_model.predict(prep_data(train.motion)) > 0.5\n",
    "train_accuracy = accuracy_score(train.is_hiker, predictions)\n",
    "\n",
    "# -- Test\n",
    "predictions = lr_model.predict(prep_data(test.motion)) > 0.5\n",
    "test_accuracy = accuracy_score(test.is_hiker, predictions)\n",
    "\n",
    "print(\"Train accuracy\", train_accuracy)\n",
    "print(\"Test accuracy\", test_accuracy)\n",
    "\n",
    "# Plot the model\n",
    "plt.scatter(test[\"motion\"], test[\"is_hiker\"], alpha=0.6, label=\"Data\", edgecolor='k')\n",
    "\n",
    "# Create a smooth range of motion values for the trendline\n",
    "x_vals = np.linspace(test[\"motion\"].min(), test[\"motion\"].max(), 200)\n",
    "\n",
    "# Get predicted probabilities from the logistic regression model\n",
    "y_vals = lr_model.predict(prep_data(x_vals))\n",
    "\n",
    "# Plot the logistic regression trendline\n",
    "# Keep the trendline function for later use\n",
    "predict_with_logistic_regression = lambda x: lr_model.predict(prep_data(x))\n",
    "\n",
    "# Scatter plot of the test data\n",
    "plt.scatter(test[\"motion\"], test[\"is_hiker\"], alpha=0.6, label=\"Data\", edgecolor='k')\n",
    "\n",
    "# Create a smooth range of motion values and use the trendline function\n",
    "x_vals = np.linspace(test[\"motion\"].min(), test[\"motion\"].max(), 200)\n",
    "y_vals = predict_with_logistic_regression(x_vals)\n",
    "\n",
    "# Plot the trendline\n",
    "plt.plot(x_vals, y_vals, color='red', label=\"Logistic Regression Model\")\n",
    "\n",
    "plt.xlabel(\"motion\")\n",
    "plt.ylabel(\"is_hiker\")\n",
    "plt.title(\"Logistic Regression\")\n",
    "plt.legend()\n",
    "plt.grid(True)\n",
    "plt.show()"
   ]
  },
  {
   "attachments": {},
   "cell_type": "markdown",
   "id": "6fc16730",
   "metadata": {},
   "source": [
    "Now, our random-forest model:"
   ]
  },
  {
   "cell_type": "code",
   "execution_count": null,
   "id": "6ec93912",
   "metadata": {},
   "outputs": [],
   "source": [
    "from sklearn.ensemble import RandomForestClassifier\n",
    "from sklearn.metrics import accuracy_score\n",
    "\n",
    "# Create a random forest model with 50 trees\n",
    "random_forest = RandomForestClassifier(random_state=2,\n",
    "                                       verbose=False)\n",
    "\n",
    "# Train the model\n",
    "random_forest.fit(train[[\"motion\"]], train.is_hiker)\n",
    "\n",
    "# Assess its performance\n",
    "# -- Train\n",
    "predictions = random_forest.predict(train[[\"motion\"]])\n",
    "train_accuracy = accuracy_score(train.is_hiker, predictions)\n",
    "\n",
    "# -- Test\n",
    "predictions = random_forest.predict(test[[\"motion\"]])\n",
    "test_accuracy = accuracy_score(test.is_hiker, predictions)\n",
    "\n",
    "\n",
    "# Train and test the model\n",
    "print(\"Random Forest Performance:\")\n",
    "print(\"Train accuracy\", train_accuracy)\n",
    "print(\"Test accuracy\", test_accuracy)\n"
   ]
  },
  {
   "attachments": {},
   "cell_type": "markdown",
   "id": "151a18cb",
   "metadata": {},
   "source": [
    "These models have similar (but not identical) performance on the test set in terms of accuracy.\n",
    "\n",
    "## Create ROC plots\n",
    "\n",
    "Let's create ROC curves for these models. To do this, we'll simply import code from the last exercises so that we can focus on what we want to learn here. If you need a refresher on how these were made, reread the last exercise.\n",
    "\n",
    "Note that we've made a slight change. Now our method produces both a graph and the table of numbers we used to create the graph.\n",
    "\n",
    "First, let's look at the logistic regression model:"
   ]
  },
  {
   "cell_type": "code",
   "execution_count": null,
   "id": "346b1526",
   "metadata": {
    "tags": []
   },
   "outputs": [],
   "source": [
    "from m2d_make_roc import create_roc_curve # import our previous ROC code\n",
    "\n",
    "# Get ROC data\n",
    "_, thresholds_lr = create_roc_curve(predict_with_logistic_regression, test, \"motion\")\n",
    "\n",
    "# Plot ROC curve using matplotlib\n",
    "plt.figure(figsize=(6, 6))\n",
    "plt.plot(thresholds_lr[\"fpr\"], thresholds_lr[\"tpr\"], color='blue', label='ROC Curve')\n",
    "plt.plot([0, 1], [0, 1], linestyle='--', color='gray', label='Random Guess')\n",
    "\n",
    "plt.xlim([-0.05, 1.05])\n",
    "plt.ylim([-0.05, 1.05])\n",
    "plt.xlabel(\"False Positive Rate\")\n",
    "plt.ylabel(\"True Positive Rate\")\n",
    "plt.title(\"ROC Curve\")\n",
    "plt.legend(loc=\"lower right\")\n",
    "plt.grid(True)\n",
    "plt.gca().set_aspect('equal', adjustable='box')\n",
    "plt.show()\n",
    "\n",
    "# Show the table of thresholds\n",
    "thresholds_lr"
   ]
  },
  {
   "attachments": {},
   "cell_type": "markdown",
   "id": "7bcb79b5",
   "metadata": {},
   "source": [
    "We can see our model does better than chance (it's not a diagonal line). Our table shows the false positive rate (_fpr_) and true positive rate (_tpr_) for each threshold.\n",
    "\n",
    "Let's repeat this for our random-forest model:"
   ]
  },
  {
   "cell_type": "code",
   "execution_count": null,
   "id": "3809a014",
   "metadata": {},
   "outputs": [],
   "source": [
    "# Don't worry about this lambda function. It simply reorganizes \n",
    "# the data into the shape expected by the random forest model, \n",
    "# and calls predict_proba, which gives us predicted probabilities\n",
    "# that the label is 'hiker'\n",
    "predict_with_random_forest = lambda x: random_forest.predict_proba(np.array(x).reshape(-1, 1))[:, 1]\n",
    "\n",
    "# Generate ROC data (thresholds_rf should be a DataFrame with 'fpr' and 'tpr')\n",
    "_, thresholds_rf = create_roc_curve(predict_with_random_forest, test, \"motion\")\n",
    "\n",
    "# Plot ROC curve\n",
    "plt.figure(figsize=(6, 6))\n",
    "plt.plot(thresholds_rf[\"fpr\"], thresholds_rf[\"tpr\"], color='green', label='Random Forest ROC Curve')\n",
    "plt.plot([0, 1], [0, 1], linestyle='--', color='gray', label='Random Guess')\n",
    "\n",
    "# Optional: Fill under the curve like Plotly's `fill=\"tozeroy\"`\n",
    "plt.fill_between(thresholds_rf[\"fpr\"], thresholds_rf[\"tpr\"], alpha=0.2, color='green')\n",
    "\n",
    "plt.xlim([-0.05, 1.05])\n",
    "plt.ylim([-0.05, 1.05])\n",
    "plt.xlabel(\"False Positive Rate\")\n",
    "plt.ylabel(\"True Positive Rate\")\n",
    "plt.title(\"Random Forest ROC Curve\")\n",
    "plt.legend(loc=\"lower right\")\n",
    "plt.grid(True)\n",
    "plt.gca().set_aspect('equal', adjustable='box')\n",
    "plt.show()\n",
    "\n",
    "# Show the table of results\n",
    "thresholds_rf"
   ]
  },
  {
   "attachments": {},
   "cell_type": "markdown",
   "id": "675807c4",
   "metadata": {},
   "source": [
    "## Area under the curve\n",
    "\n",
    "Our models look quite similar. Which model do we think is best? Let's use _area under the curve_ (AUC) to compare them. We should expect a number larger than 0.5, because these models are both better than chance, but smaller than 1, because they aren't perfect."
   ]
  },
  {
   "cell_type": "code",
   "execution_count": null,
   "id": "531f44c7",
   "metadata": {},
   "outputs": [],
   "source": [
    "from sklearn.metrics import roc_auc_score\n",
    "\n",
    "# Logistic regression\n",
    "print(\"Logistic Regression AUC:\", roc_auc_score(test.is_hiker, predict_with_logistic_regression(test.motion)))\n",
    "\n",
    "# Random Forest\n",
    "print(\"Random Forest AUC:\", roc_auc_score(test.is_hiker, predict_with_random_forest(test.motion)))"
   ]
  },
  {
   "attachments": {},
   "cell_type": "markdown",
   "id": "3ef40dc9",
   "metadata": {},
   "source": [
    "By a very thin margin, the logistic regression model comes out on top.\n",
    "\n",
    "Remember, this doesn't mean the logistic regression model will always do a better job than the random forest. It means that the logistic regression model is a slightly better choice for this kind of data, and probably is marginally less reliant on having the perfect decision thresholds chosen.\n",
    "\n",
    "## Decision Threshold Tuning\n",
    "\n",
    "We can also use our ROC information to find the best thresholds to use. We'll just work with our random-forest model for this part.\n",
    "\n",
    "First, let's take a look at the rate of True and False positives with the default threshold of 0.5:"
   ]
  },
  {
   "cell_type": "code",
   "execution_count": null,
   "id": "550d7527",
   "metadata": {},
   "outputs": [],
   "source": [
    "# Print out its expected performance at the default threshold of 0.5\n",
    "# We previously obtained this information when we created our graphs\n",
    "row_of_0point5 = thresholds_rf[thresholds_rf.threshold == 0.5]\n",
    "print(\"TPR at threshold of 0.5:\", row_of_0point5.tpr.values[0])\n",
    "print(\"FPR at threshold of 0.5:\", row_of_0point5.fpr.values[0])"
   ]
  },
  {
   "attachments": {},
   "cell_type": "markdown",
   "id": "5f89d230",
   "metadata": {},
   "source": [
    "We can expect that, when real hikers are seen, we have an 86% chance of identifying them. When trees or hikers are seen, we have a 16% chance of identifying them as a hiker.\n",
    "\n",
    "Let's say that for our particular situation, we consider obtaining true positive just as important as avoiding a false positive. We don't want to ignore hikers on the mountain, but we also don't want to send our team out into dangerous conditions for no reason. \n",
    "\n",
    "We can find the best threshold by making our own scoring system and seeing which threshold would get the best result:"
   ]
  },
  {
   "cell_type": "code",
   "execution_count": null,
   "id": "e3a05ef8",
   "metadata": {},
   "outputs": [],
   "source": [
    "# Calculate how good each threshold is from our TPR and FPR. \n",
    "# Our criteria is that the TPR is as high as possible and \n",
    "# the FPR is as low as possible. We consider them equally important\n",
    "scores = thresholds_rf.tpr - thresholds_rf.fpr\n",
    "\n",
    "# Find the entry with the lowest score according to our criteria\n",
    "index_of_best_score = np.argmax(scores)\n",
    "best_threshold = thresholds_rf.threshold[index_of_best_score]\n",
    "print(\"Best threshold:\", best_threshold)\n",
    "\n",
    "# Print out its expected performance\n",
    "print(\"TPR at this threshold:\", thresholds_rf.tpr[index_of_best_score])\n",
    "print(\"FPR at this threshold:\", thresholds_rf.fpr[index_of_best_score])"
   ]
  },
  {
   "attachments": {},
   "cell_type": "markdown",
   "id": "55d995a0",
   "metadata": {},
   "source": [
    "Our best threshold, with this criteria, is 0.74, not 0.5! This would have us still identify 83% of hikers properly—a slight decrease from 86%—but only misidentify 3.6% of trees as hikers.\n",
    "\n",
    "If you'd like, play with how we're calculating our scores here, and see how the threshold is adjusted.\n",
    "\n",
    "## Summary\n",
    "\n",
    "That's it! Here we've created ROC curves for two different models, using code we wrote in the previous exercise.\n",
    "\n",
    "Visually, they were quite similar, and when we compared them using the area-under-the-curve metric we found that the logistic regression model was marginally better performing.\n",
    "\n",
    "We then used the ROC curve to tune our random-forest model, based on criteria specific to our circumstances. Our very simple criteria of `TPR - FPR` let us pick a threshold that was right for us."
   ]
  }
 ],
 "metadata": {
  "kernel_info": {
   "name": "conda-env-azureml_py38-py"
  },
  "kernelspec": {
   "display_name": "py38_default",
   "language": "python",
   "name": "conda-env-azureml_py38-py"
  },
  "language_info": {
   "codemirror_mode": {
    "name": "ipython",
    "version": 3
   },
   "file_extension": ".py",
   "mimetype": "text/x-python",
   "name": "python",
   "nbconvert_exporter": "python",
   "pygments_lexer": "ipython3",
   "version": "3.7.9"
  },
  "nteract": {
   "version": "nteract-front-end@1.0.0"
  }
 },
 "nbformat": 4,
 "nbformat_minor": 2
}
