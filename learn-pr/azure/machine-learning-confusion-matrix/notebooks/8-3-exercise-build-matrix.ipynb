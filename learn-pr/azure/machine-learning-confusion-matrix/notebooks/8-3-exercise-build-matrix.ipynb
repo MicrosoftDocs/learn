{
 "cells": [
  {
   "attachments": {},
   "cell_type": "markdown",
   "id": "70d0b5f9",
   "metadata": {},
   "source": [
    "# Exercise: Build a confusion matrix\n",
    "\n",
    "\n",
    "In this exercise, we go into more detail on measuring the performance of classification models, using the concepts of *imbalanced datasets*, *accuracy* and *confusion matrices*.\n",
    "\n",
    "\n",
    "## Data visualization\n",
    "\n",
    "Our new dataset represents different classes of objects found in snow.\n",
    "\n",
    "Let's start this exercise by loading in and having a look at our data:"
   ]
  },
  {
   "cell_type": "code",
   "execution_count": null,
   "id": "4eec3f24",
   "metadata": {
    "scrolled": true
   },
   "outputs": [],
   "source": [
    "import pandas\n",
    "!wget https://raw.githubusercontent.com/MicrosoftDocs/mslearn-introduction-to-machine-learning/main/graphing.py\n",
    "!wget https://raw.githubusercontent.com/MicrosoftDocs/mslearn-introduction-to-machine-learning/main/Data/snow_objects.csv\n",
    "\n",
    "#Import the data from the .csv file\n",
    "dataset = pandas.read_csv('snow_objects.csv', delimiter=\"\\t\")\n",
    "\n",
    "#Let's have a look at the data\n",
    "dataset"
   ]
  },
  {
   "cell_type": "markdown",
   "id": "774c01eb",
   "metadata": {},
   "source": [
    "## Data Exploration\n",
    "\n",
    "We can see that the dataset has both continuous (`size`, `roughness`, `motion`) and categorical data (`color` and `label`).\n",
    "Let's do some quick data exploration and see what different label classes we have and their respective counts:"
   ]
  },
  {
   "cell_type": "code",
   "execution_count": null,
   "id": "c9398d73",
   "metadata": {},
   "outputs": [],
   "source": [
    "import graphing # custom graphing code. See our GitHub repo for details\n",
    "\n",
    "# Plot a histogram with counts for each label\n",
    "graphing.multiple_histogram(dataset, label_x=\"label\", label_group=\"label\", title=\"Label distribution\")"
   ]
  },
  {
   "attachments": {},
   "cell_type": "markdown",
   "id": "b1b2d9a8",
   "metadata": {},
   "source": [
    "The preceding histogram makes it very easy to understand both the labels we have in the dataset and their distribution.\n",
    "\n",
    "One important bit of information to notice is that this is an *imbalanced dataset*: classes are not represented in the same proportion (we have 4 times more rocks and trees than animals, for example).\n",
    "\n",
    "This is relevant because imbalanced sets are very common \"in the wild.\" In the future, we learn how to address that to build better models.\n",
    "\n",
    "We can do the same analysis for the `color` feature:"
   ]
  },
  {
   "cell_type": "code",
   "execution_count": null,
   "id": "fe75f458",
   "metadata": {},
   "outputs": [],
   "source": [
    "# Plot a histogram with counts for each label\n",
    "graphing.multiple_histogram(dataset, label_x=\"color\", label_group=\"color\", title=\"Color distribution\")"
   ]
  },
  {
   "cell_type": "markdown",
   "id": "30dc67b3",
   "metadata": {},
   "source": [
    "We can notice that:\n",
    "\n",
    "- We have `8` different color categories.\n",
    "- The `color` feature is also heavily imbalanced.\n",
    "- Out plotting algorithm is not smart enough to assign the correct colors to their respective names.\n",
    "\n",
    "Let's see what we can find about the other features:\n"
   ]
  },
  {
   "cell_type": "code",
   "execution_count": null,
   "id": "53bfcfcc",
   "metadata": {},
   "outputs": [],
   "source": [
    "graphing.box_and_whisker(dataset, label_y=\"size\", title='Boxplot of \"size\" feature')"
   ]
  },
  {
   "attachments": {},
   "cell_type": "markdown",
   "id": "311c9dbc",
   "metadata": {},
   "source": [
    "In the preceding box plot, we notice that the majority of our samples are relatively small, with sizes ranging from `0` to `70`, but we have a few much bigger outliers.\n",
    "\n",
    "Let's take a look at the `roughness` feature:"
   ]
  },
  {
   "cell_type": "code",
   "execution_count": null,
   "id": "1ddba9fe",
   "metadata": {},
   "outputs": [],
   "source": [
    "graphing.box_and_whisker(dataset, label_y=\"roughness\", title='Boxplot of \"roughness\" feature')"
   ]
  },
  {
   "cell_type": "markdown",
   "id": "ca6d3fc2",
   "metadata": {},
   "source": [
    "There's not a lot of variation here: values for `roughness` range from `0` to a little over `2`, with most samples having values close to the mean.\n",
    "\n",
    "Finally, let's plot the `motion` feature:"
   ]
  },
  {
   "cell_type": "code",
   "execution_count": null,
   "id": "322543c3",
   "metadata": {},
   "outputs": [],
   "source": [
    "graphing.box_and_whisker(dataset, label_y=\"motion\", title='Boxplot of \"motion\" feature')"
   ]
  },
  {
   "attachments": {},
   "cell_type": "markdown",
   "id": "1a98a62e",
   "metadata": {},
   "source": [
    "Most objects seem to be either static or moving very slowly. There's a smaller number of objects moving faster, with a couple of outliers over `10`."
   ]
  },
  {
   "attachments": {},
   "cell_type": "markdown",
   "id": "1c04136f",
   "metadata": {},
   "source": [
    "From the preceding data, one could assume that the smaller and faster objects are likely hikers and animals, whereas the bigger, more static elements are trees and rocks.\n",
    "\n",
    "## Building a classification model\n",
    "\n",
    "Let's build and train a classification model using a random forest to predict the class of an object based on the features in our dataset:\n"
   ]
  },
  {
   "cell_type": "code",
   "execution_count": null,
   "id": "f51f4e13",
   "metadata": {},
   "outputs": [],
   "source": [
    "from sklearn.ensemble import RandomForestClassifier\n",
    "from sklearn.model_selection import train_test_split\n",
    "\n",
    "# Split the dataset in an 70/30 train/test ratio. \n",
    "train, test = train_test_split(dataset, test_size=0.3, random_state=2)\n",
    "print(train.shape)\n",
    "print(test.shape)"
   ]
  },
  {
   "cell_type": "markdown",
   "id": "822b5f7b",
   "metadata": {},
   "source": [
    "Now we can train our model, using the `train` dataset we've just created:"
   ]
  },
  {
   "cell_type": "code",
   "execution_count": null,
   "id": "d6a82f68",
   "metadata": {},
   "outputs": [],
   "source": [
    "# Create the model\n",
    "model = RandomForestClassifier(n_estimators=1, random_state=1, verbose=False)\n",
    "\n",
    "# Define which features are to be used (leave color out for now)\n",
    "features = [\"size\", \"roughness\", \"motion\"]\n",
    "\n",
    "# Train the model\n",
    "model.fit(train[features], train.label)\n",
    "\n",
    "print(\"Model trained!\")"
   ]
  },
  {
   "cell_type": "markdown",
   "id": "f8ee1b35",
   "metadata": {},
   "source": [
    "## Assessing our model\n",
    "\n",
    "We can now use our newly trained model to make predictions using the *test* set.\n",
    "\n",
    "By comparing the values predicted to the actual labels (also called *true* values), we can measure the model's performance using different *metrics*.\n",
    "\n",
    "*Accuracy*, for example, is simply the number of correctly predicted labels out of all predictions performed:\n",
    "\n",
    "```sh\n",
    "    Accuracy = Correct Predictions / Total Predictions\n",
    "```\n",
    "\n",
    "Let's see how this can be done in code:"
   ]
  },
  {
   "cell_type": "code",
   "execution_count": null,
   "id": "1a735678",
   "metadata": {},
   "outputs": [],
   "source": [
    "# Import a function that measures a models accuracy\n",
    "from sklearn.metrics import accuracy_score\n",
    "\n",
    "# Calculate the model's accuracy on the TEST set\n",
    "actual = test.label\n",
    "predictions = model.predict(test[features])\n",
    "\n",
    "# Return accuracy as a fraction\n",
    "acc = accuracy_score(actual, predictions)\n",
    "\n",
    "# Return accuracy as a number of correct predictions\n",
    "acc_norm = accuracy_score(actual, predictions, normalize=False)\n",
    "\n",
    "print(f\"The random forest model's accuracy on the test set is {acc:.4f}.\")\n",
    "print(f\"It correctly predicted {acc_norm} labels in {len(test.label)} predictions.\")"
   ]
  },
  {
   "cell_type": "markdown",
   "id": "ea5d7502",
   "metadata": {},
   "source": [
    "Our model __seems__ to be doing quite well!\n",
    "\n",
    "That intuition, however, can be misleading:\n",
    "\n",
    "- Accuracy does not take into account the __wrong__ predictions made by the model.\n",
    "\n",
    "- It's also not very good at painting a clear picture in *class-imbalanced datasets*, like ours, where the number of possible classes is not evenly distributed. Recall that we have 800 trees, 800 rocks, but only 200 animals."
   ]
  },
  {
   "cell_type": "markdown",
   "id": "b03561b0",
   "metadata": {},
   "source": [
    "## Building a confusion matrix\n",
    "\n",
    "A *confusion matrix* is a table where we compare the actual labels to what the model predicted. It gives us a more detailed understanding of how the model is doing and where it's getting things right or missing.\n",
    "\n",
    "This is one of the ways we can do that in code:"
   ]
  },
  {
   "cell_type": "code",
   "execution_count": null,
   "id": "d7ad06d0",
   "metadata": {},
   "outputs": [],
   "source": [
    "# sklearn has a very convenient utility to build confusion matrices\n",
    "from sklearn.metrics import confusion_matrix\n",
    "\n",
    "# Build and print our confusion matrix, using the actual values and predictions \n",
    "# from the test set, calculated in previous cells\n",
    "cm = confusion_matrix(actual, predictions, normalize=None)\n",
    "\n",
    "print(\"Confusion matrix for the test set:\")\n",
    "print(cm)\n"
   ]
  },
  {
   "attachments": {},
   "cell_type": "markdown",
   "id": "80602571",
   "metadata": {},
   "source": [
    "While the preceding matrix can be useful in calculations, it's not very helpful or intuitive.\n",
    "\n",
    "Let's add a plot with labels and colors to turn that data into actual insights:"
   ]
  },
  {
   "cell_type": "code",
   "execution_count": null,
   "id": "a115b511",
   "metadata": {},
   "outputs": [],
   "source": [
    "# We use plotly to create plots and charts\n",
    "import plotly.figure_factory as ff\n",
    "\n",
    "# Create the list of unique labels in the test set, to use in our plot\n",
    "# I.e., ['animal', 'hiker', 'rock', 'tree']\n",
    "x = y = sorted(list(test[\"label\"].unique()))\n",
    "\n",
    "# Plot the matrix above as a heatmap with annotations (values) in its cells\n",
    "fig = ff.create_annotated_heatmap(cm, x, y)\n",
    "\n",
    "# Set titles and ordering\n",
    "fig.update_layout(  title_text=\"<b>Confusion matrix</b>\", \n",
    "                    yaxis = dict(categoryorder = \"category descending\"))\n",
    "\n",
    "fig.add_annotation(dict(font=dict(color=\"black\",size=14),\n",
    "                        x=0.5,\n",
    "                        y=-0.15,\n",
    "                        showarrow=False,\n",
    "                        text=\"Predicted label\",\n",
    "                        xref=\"paper\",\n",
    "                        yref=\"paper\"))\n",
    "\n",
    "fig.add_annotation(dict(font=dict(color=\"black\",size=14),\n",
    "                        x=-0.15,\n",
    "                        y=0.5,\n",
    "                        showarrow=False,\n",
    "                        text=\"Actual label\",\n",
    "                        textangle=-90,\n",
    "                        xref=\"paper\",\n",
    "                        yref=\"paper\"))\n",
    "\n",
    "# We need margins so the titles fit\n",
    "fig.update_layout(margin=dict(t=80, r=20, l=100, b=50))\n",
    "fig['data'][0]['showscale'] = True\n",
    "fig.show()"
   ]
  },
  {
   "cell_type": "markdown",
   "id": "f150914f",
   "metadata": {},
   "source": [
    "Notice that the plot has the __Actual labels__ on the `y-axis` and __Predicted labels__ on the `x-axis`, as defined by the `confusion_matrix` function call.\n",
    "\n",
    "We can see that the model is generally accurate, but only because we have so many rocks and trees in our set and because it does well on those classes.\n",
    "\n",
    "When it comes to hikers and animals the model gets confused (it shows a high number of FPs and FNs), but because these classes are less represented in the dataset the *accuracy score* remains high.\n"
   ]
  },
  {
   "attachments": {},
   "cell_type": "markdown",
   "id": "ef1ec244",
   "metadata": {},
   "source": [
    "## Summary\n",
    "\n",
    "In this exercise, we talked about the following concepts:\n",
    "\n",
    "- *Imbalanced datasets*, where features or classes can be represented by a disproportionate number of samples.\n",
    "- *Accuracy* as a metric to assess model performance, and its shortcomings.\n",
    "- How to generate, plot and interpret *confusion matrices*, to get a better understanding of how a classification model is performing."
   ]
  }
 ],
 "metadata": {
  "kernel_info": {
   "name": "conda-env-azureml_py38-py"
  },
  "kernelspec": {
   "display_name": "py38_default",
   "language": "python",
   "name": "conda-env-azureml_py38-py"
  },
  "language_info": {
   "codemirror_mode": {
    "name": "ipython",
    "version": 3
   },
   "file_extension": ".py",
   "mimetype": "text/x-python",
   "name": "python",
   "nbconvert_exporter": "python",
   "pygments_lexer": "ipython3",
   "version": "3.7.9"
  },
  "nteract": {
   "version": "nteract-front-end@1.0.0"
  }
 },
 "nbformat": 4,
 "nbformat_minor": 2
}
